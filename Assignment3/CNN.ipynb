{
  "nbformat": 4,
  "nbformat_minor": 0,
  "metadata": {
    "colab": {
      "provenance": [],
      "collapsed_sections": [],
      "authorship_tag": "ABX9TyPcw/a0iYMSl/NlBn8ytDAq",
      "include_colab_link": true
    },
    "kernelspec": {
      "name": "python3",
      "display_name": "Python 3"
    },
    "language_info": {
      "name": "python"
    }
  },
  "cells": [
    {
      "cell_type": "markdown",
      "metadata": {
        "id": "view-in-github",
        "colab_type": "text"
      },
      "source": [
        "<a href=\"https://colab.research.google.com/github/raghavaraghav3/CS-5783/blob/main/Assignment3/Assignment_03_.ipynb\" target=\"_parent\"><img src=\"https://colab.research.google.com/assets/colab-badge.svg\" alt=\"Open In Colab\"/></a>"
      ]
    },
    {
      "cell_type": "markdown",
      "source": [
        "**Importing Libraries**"
      ],
      "metadata": {
        "id": "QjM52509ETr6"
      }
    },
    {
      "cell_type": "code",
      "source": [
        "# Load the TensorBoard notebook extension.\n",
        "%reload_ext tensorboard\n",
        "\n",
        "from datetime import datetime\n",
        "from packaging import version\n",
        "\n",
        "import tensorflow as tf\n",
        "from tensorflow import keras\n",
        "\n",
        "import tensorboard\n",
        "import matplotlib.pyplot as plt\n",
        "\n",
        "import numpy as np\n",
        "\n",
        "from keras.datasets import mnist, cifar10\n",
        "\n",
        "from keras.layers import Dense, Flatten, Dropout, Activation, Conv2D, MaxPooling2D, Input\n",
        "from keras.models import Sequential, Model"
      ],
      "metadata": {
        "id": "88J3L4uOEZXc"
      },
      "execution_count": null,
      "outputs": []
    },
    {
      "cell_type": "markdown",
      "source": [
        "**Question 1**"
      ],
      "metadata": {
        "id": "vecfFIpZGBz-"
      }
    },
    {
      "cell_type": "code",
      "source": [
        "(X_Train, Y_Train), (X_Test, Y_Test) = keras.datasets.mnist.load_data() # Downloading the mnist data set"
      ],
      "metadata": {
        "id": "yw1iIxwhFV2G"
      },
      "execution_count": null,
      "outputs": []
    },
    {
      "cell_type": "code",
      "source": [
        "print(\"X Train -\", X_Train.shape, \"Y Train -\", Y_Train.shape, \"X Test -\", X_Test.shape, \"Y Test -\", Y_Test.shape)"
      ],
      "metadata": {
        "colab": {
          "base_uri": "https://localhost:8080/"
        },
        "id": "23cR64QCFs6p",
        "outputId": "fe7c7b0f-843e-4f68-ac3a-a8c4d6b8962a"
      },
      "execution_count": null,
      "outputs": [
        {
          "output_type": "stream",
          "name": "stdout",
          "text": [
            "X Train - (60000, 28, 28) Y Train - (60000,) X Test - (10000, 28, 28) Y Test - (10000,)\n"
          ]
        }
      ]
    },
    {
      "cell_type": "code",
      "source": [
        "X_Train = X_Train/255.0\n",
        "X_Test = X_Test/255.0\n",
        "X_Train = X_Train.reshape(-1, 28, 28, 1) #add an additional dimension to represent the single-channel\n",
        "X_Test = X_Test.reshape(-1, 28, 28, 1) #add an additional dimension to represent the single-channel"
      ],
      "metadata": {
        "id": "KuTeZz1xG12Y"
      },
      "execution_count": null,
      "outputs": []
    },
    {
      "cell_type": "markdown",
      "source": [
        "**1.1**"
      ],
      "metadata": {
        "id": "xzfFoQq5tHh2"
      }
    },
    {
      "cell_type": "code",
      "source": [
        "cnn_model = tf.keras.models.Sequential()\n",
        "\n",
        "cnn_model.add(tf.keras.layers.Conv2D(10, (3, 3), padding='same', activation='relu'))\n",
        "cnn_model.add(tf.keras.layers.Conv2D(20, (3, 3), padding='same', activation='relu'))\n",
        "cnn_model.add(tf.keras.layers.Conv2D(30, (3, 3), padding='same', activation='relu'))\n",
        "\n",
        "cnn_model.add(tf.keras.layers.MaxPooling2D(pool_size=(2, 2), strides=(2,2)))\n",
        "\n",
        "cnn_model.add(tf.keras.layers.Conv2D(40, (3, 3), padding='same', activation='relu'))\n",
        "cnn_model.add(tf.keras.layers.Conv2D(50, (3, 3), padding='same', activation='relu'))\n",
        "cnn_model.add(tf.keras.layers.Conv2D(60, (3, 3), padding='same', activation='relu'))\n",
        "cnn_model.add(tf.keras.layers.Conv2D(70, (3, 3), padding='same', activation='relu'))\n",
        "\n",
        "cnn_model.add(tf.keras.layers.MaxPooling2D(pool_size=(2, 2), strides=(2,2)))\n",
        "\n",
        "cnn_model.add(tf.keras.layers.Conv2D(80, (3, 3), padding='same', activation='relu'))\n",
        "cnn_model.add(tf.keras.layers.Conv2D(90, (3, 3), padding='same', activation='relu'))\n",
        "cnn_model.add(tf.keras.layers.Conv2D(100, (3, 3), padding='same', activation='relu'))\n",
        "\n",
        "cnn_model.add(tf.keras.layers.Flatten())\n",
        "cnn_model.add(tf.keras.layers.Dense(10, activation ='softmax'))\n",
        "\n",
        "cnn_model.compile(optimizer=tf.keras.optimizers.Adam(learning_rate=1e-3), loss='sparse_categorical_crossentropy', metrics=['accuracy'])\n",
        "cnn_model.build(input_shape=(1,28,28,1))\n",
        "cnn_model.summary()"
      ],
      "metadata": {
        "colab": {
          "base_uri": "https://localhost:8080/"
        },
        "id": "wYW4A1zptEBy",
        "outputId": "2e91c418-6f11-4a1d-edbe-8365c08d99e2"
      },
      "execution_count": null,
      "outputs": [
        {
          "output_type": "stream",
          "name": "stdout",
          "text": [
            "Model: \"sequential_1\"\n",
            "_________________________________________________________________\n",
            " Layer (type)                Output Shape              Param #   \n",
            "=================================================================\n",
            " conv2d_10 (Conv2D)          (1, 28, 28, 10)           100       \n",
            "                                                                 \n",
            " conv2d_11 (Conv2D)          (1, 28, 28, 20)           1820      \n",
            "                                                                 \n",
            " conv2d_12 (Conv2D)          (1, 28, 28, 30)           5430      \n",
            "                                                                 \n",
            " max_pooling2d_2 (MaxPooling  (1, 14, 14, 30)          0         \n",
            " 2D)                                                             \n",
            "                                                                 \n",
            " conv2d_13 (Conv2D)          (1, 14, 14, 40)           10840     \n",
            "                                                                 \n",
            " conv2d_14 (Conv2D)          (1, 14, 14, 50)           18050     \n",
            "                                                                 \n",
            " conv2d_15 (Conv2D)          (1, 14, 14, 60)           27060     \n",
            "                                                                 \n",
            " conv2d_16 (Conv2D)          (1, 14, 14, 70)           37870     \n",
            "                                                                 \n",
            " max_pooling2d_3 (MaxPooling  (1, 7, 7, 70)            0         \n",
            " 2D)                                                             \n",
            "                                                                 \n",
            " conv2d_17 (Conv2D)          (1, 7, 7, 80)             50480     \n",
            "                                                                 \n",
            " conv2d_18 (Conv2D)          (1, 7, 7, 90)             64890     \n",
            "                                                                 \n",
            " conv2d_19 (Conv2D)          (1, 7, 7, 100)            81100     \n",
            "                                                                 \n",
            " flatten_1 (Flatten)         (1, 4900)                 0         \n",
            "                                                                 \n",
            " dense_1 (Dense)             (1, 10)                   49010     \n",
            "                                                                 \n",
            "=================================================================\n",
            "Total params: 346,650\n",
            "Trainable params: 346,650\n",
            "Non-trainable params: 0\n",
            "_________________________________________________________________\n"
          ]
        }
      ]
    },
    {
      "cell_type": "markdown",
      "source": [
        "Train and Evaluation with test set"
      ],
      "metadata": {
        "id": "phzkdxKh61ZJ"
      }
    },
    {
      "cell_type": "code",
      "source": [
        "model1 = cnn_model\n",
        "\n",
        "# Train the model\n",
        "model1.fit(X_Train, Y_Train)\n",
        "\n",
        "# Train the model\n",
        "score = model1.evaluate(X_Test, Y_Test)\n",
        "\n",
        "#Results\n",
        "print('Test loss:', score[0])\n",
        "print('Test accuracy:', score[1])"
      ],
      "metadata": {
        "colab": {
          "base_uri": "https://localhost:8080/"
        },
        "id": "zYMgxCU66Xmn",
        "outputId": "10b63580-5c68-41ce-fef6-c6fd73661cf7"
      },
      "execution_count": null,
      "outputs": [
        {
          "output_type": "stream",
          "name": "stdout",
          "text": [
            "1875/1875 [==============================] - 287s 153ms/step - loss: 0.1271 - accuracy: 0.9603\n",
            "313/313 [==============================] - 13s 41ms/step - loss: 0.0516 - accuracy: 0.9831\n",
            "Test loss: 0.051588188856840134\n",
            "Test accuracy: 0.9830999970436096\n"
          ]
        }
      ]
    },
    {
      "cell_type": "code",
      "source": [
        "model1_1 = cnn_model\n",
        "\n",
        "# Train the model\n",
        "model1_1.fit(X_Train, Y_Train, batch_size=512, epochs=5)\n",
        "\n",
        "# Train the model\n",
        "score_1 = model1_1.evaluate(X_Test, Y_Test)\n",
        "\n",
        "#Results\n",
        "print('Test loss:', score_1[0])\n",
        "print('Test accuracy:', score_1[1])"
      ],
      "metadata": {
        "colab": {
          "base_uri": "https://localhost:8080/"
        },
        "id": "99lGKF3i6_0M",
        "outputId": "07a29907-e56d-46bb-bbc9-70781304ad2e"
      },
      "execution_count": null,
      "outputs": [
        {
          "output_type": "stream",
          "name": "stdout",
          "text": [
            "Epoch 1/5\n",
            "118/118 [==============================] - 428s 4s/step - loss: 0.2312 - accuracy: 0.9308\n",
            "Epoch 2/5\n",
            "118/118 [==============================] - 427s 4s/step - loss: 0.0566 - accuracy: 0.9822\n",
            "Epoch 3/5\n",
            "118/118 [==============================] - 430s 4s/step - loss: 0.0421 - accuracy: 0.9869\n",
            "Epoch 4/5\n",
            "118/118 [==============================] - 428s 4s/step - loss: 0.0316 - accuracy: 0.9904\n",
            "Epoch 5/5\n",
            "118/118 [==============================] - 428s 4s/step - loss: 0.0232 - accuracy: 0.9926\n",
            "313/313 [==============================] - 22s 70ms/step - loss: 0.0268 - accuracy: 0.9915\n",
            "Test loss: 0.026755444705486298\n",
            "Test accuracy: 0.9915000200271606\n"
          ]
        }
      ]
    },
    {
      "cell_type": "markdown",
      "source": [
        "**1.1 Explanation**\n",
        "I have used 10 convolution layers between 10 and 100 layers, with the first as 10 and increasing upto 100. The results showed are above. With epoch =5 and batch size = 512, the model performed well with train accuracy = 98.31 and test accuracy to 99.15"
      ],
      "metadata": {
        "id": "SH2W-qR16H6u"
      }
    },
    {
      "cell_type": "markdown",
      "source": [
        "**1.2**"
      ],
      "metadata": {
        "id": "jg8RgR1ROK0o"
      }
    },
    {
      "cell_type": "code",
      "source": [
        "cnn_model2 = tf.keras.models.Sequential()\n",
        "\n",
        "cnn_model2.add(tf.keras.layers.Conv2D(100, (3, 3), padding='same', activation='relu'))\n",
        "cnn_model2.add(tf.keras.layers.Conv2D(90, (3, 3), padding='same', activation='relu'))\n",
        "cnn_model2.add(tf.keras.layers.Conv2D(80, (3, 3), padding='same', activation='relu'))\n",
        "\n",
        "cnn_model2.add(tf.keras.layers.MaxPooling2D(pool_size=(2, 2), strides=(2,2)))\n",
        "\n",
        "cnn_model2.add(tf.keras.layers.Conv2D(70, (3, 3), padding='same', activation='relu'))\n",
        "cnn_model2.add(tf.keras.layers.Conv2D(60, (3, 3), padding='same', activation='relu'))\n",
        "cnn_model2.add(tf.keras.layers.Conv2D(50, (3, 3), padding='same', activation='relu'))\n",
        "cnn_model2.add(tf.keras.layers.Conv2D(40, (3, 3), padding='same', activation='relu'))\n",
        "\n",
        "cnn_model2.add(tf.keras.layers.MaxPooling2D(pool_size=(2, 2), strides=(2,2)))\n",
        "\n",
        "cnn_model2.add(tf.keras.layers.Conv2D(30, (3, 3), padding='same', activation='relu'))\n",
        "cnn_model2.add(tf.keras.layers.Conv2D(20, (3, 3), padding='same', activation='relu'))\n",
        "cnn_model2.add(tf.keras.layers.Conv2D(10, (3, 3), padding='same', activation='relu'))\n",
        "\n",
        "cnn_model2.add(tf.keras.layers.Flatten())\n",
        "cnn_model2.add(tf.keras.layers.Dense(10, activation ='softmax'))\n",
        "\n",
        "cnn_model2.compile(optimizer=tf.keras.optimizers.Adam(learning_rate=1e-3), loss='sparse_categorical_crossentropy', metrics=['accuracy'])\n",
        "cnn_model2.build(input_shape=(1,28,28,1))\n",
        "cnn_model2.summary()"
      ],
      "metadata": {
        "colab": {
          "base_uri": "https://localhost:8080/"
        },
        "id": "4E3ZtYhwJ8TM",
        "outputId": "3ef56b58-9959-4823-e148-c97ef0aa369e"
      },
      "execution_count": null,
      "outputs": [
        {
          "output_type": "stream",
          "name": "stdout",
          "text": [
            "Model: \"sequential_2\"\n",
            "_________________________________________________________________\n",
            " Layer (type)                Output Shape              Param #   \n",
            "=================================================================\n",
            " conv2d_20 (Conv2D)          (1, 28, 28, 100)          1000      \n",
            "                                                                 \n",
            " conv2d_21 (Conv2D)          (1, 28, 28, 90)           81090     \n",
            "                                                                 \n",
            " conv2d_22 (Conv2D)          (1, 28, 28, 80)           64880     \n",
            "                                                                 \n",
            " max_pooling2d_4 (MaxPooling  (1, 14, 14, 80)          0         \n",
            " 2D)                                                             \n",
            "                                                                 \n",
            " conv2d_23 (Conv2D)          (1, 14, 14, 70)           50470     \n",
            "                                                                 \n",
            " conv2d_24 (Conv2D)          (1, 14, 14, 60)           37860     \n",
            "                                                                 \n",
            " conv2d_25 (Conv2D)          (1, 14, 14, 50)           27050     \n",
            "                                                                 \n",
            " conv2d_26 (Conv2D)          (1, 14, 14, 40)           18040     \n",
            "                                                                 \n",
            " max_pooling2d_5 (MaxPooling  (1, 7, 7, 40)            0         \n",
            " 2D)                                                             \n",
            "                                                                 \n",
            " conv2d_27 (Conv2D)          (1, 7, 7, 30)             10830     \n",
            "                                                                 \n",
            " conv2d_28 (Conv2D)          (1, 7, 7, 20)             5420      \n",
            "                                                                 \n",
            " conv2d_29 (Conv2D)          (1, 7, 7, 10)             1810      \n",
            "                                                                 \n",
            " flatten_2 (Flatten)         (1, 490)                  0         \n",
            "                                                                 \n",
            " dense_2 (Dense)             (1, 10)                   4910      \n",
            "                                                                 \n",
            "=================================================================\n",
            "Total params: 303,360\n",
            "Trainable params: 303,360\n",
            "Non-trainable params: 0\n",
            "_________________________________________________________________\n"
          ]
        }
      ]
    },
    {
      "cell_type": "code",
      "source": [
        "model2 = cnn_model2\n",
        "\n",
        "# Train the model\n",
        "model2.fit(X_Train, Y_Train)\n",
        "\n",
        "# Train the model\n",
        "score = model2.evaluate(X_Test, Y_Test)\n",
        "\n",
        "#Results\n",
        "print('Test loss:', score[0])\n",
        "print('Test accuracy:', score[1])"
      ],
      "metadata": {
        "colab": {
          "base_uri": "https://localhost:8080/"
        },
        "id": "SyklhsfWN1lQ",
        "outputId": "499d66a7-d987-41d1-84cc-4eea3753940a"
      },
      "execution_count": null,
      "outputs": [
        {
          "output_type": "stream",
          "name": "stdout",
          "text": [
            "1875/1875 [==============================] - 845s 450ms/step - loss: 0.1479 - accuracy: 0.9518\n",
            "313/313 [==============================] - 42s 133ms/step - loss: 0.0843 - accuracy: 0.9724\n",
            "Test loss: 0.08425775170326233\n",
            "Test accuracy: 0.9724000096321106\n"
          ]
        }
      ]
    },
    {
      "cell_type": "code",
      "source": [
        "model2_1 = cnn_model\n",
        "\n",
        "# Train the model\n",
        "model2_1.fit(X_Train, Y_Train, batch_size=512, epochs=5)\n",
        "\n",
        "# Train the model\n",
        "score_2 = model2_1.evaluate(X_Test, Y_Test)\n",
        "\n",
        "#Results\n",
        "print('Test loss:', score_2[0])\n",
        "print('Test accuracy:', score_2[1])"
      ],
      "metadata": {
        "colab": {
          "base_uri": "https://localhost:8080/"
        },
        "id": "_6UgOdiCEZM8",
        "outputId": "02616d6b-ae88-44ae-9b64-6f74fa36274e"
      },
      "execution_count": null,
      "outputs": [
        {
          "output_type": "stream",
          "name": "stdout",
          "text": [
            "Epoch 1/5\n",
            "118/118 [==============================] - 439s 4s/step - loss: 0.0197 - accuracy: 0.9938\n",
            "Epoch 2/5\n",
            "118/118 [==============================] - 440s 4s/step - loss: 0.0159 - accuracy: 0.9949\n",
            "Epoch 3/5\n",
            "118/118 [==============================] - 432s 4s/step - loss: 0.0144 - accuracy: 0.9954\n",
            "Epoch 4/5\n",
            "118/118 [==============================] - 430s 4s/step - loss: 0.0125 - accuracy: 0.9961\n",
            "Epoch 5/5\n",
            "118/118 [==============================] - 432s 4s/step - loss: 0.0109 - accuracy: 0.9964\n",
            "313/313 [==============================] - 23s 73ms/step - loss: 0.0227 - accuracy: 0.9920\n",
            "Test loss: 0.022745436057448387\n",
            "Test accuracy: 0.9919999837875366\n"
          ]
        }
      ]
    },
    {
      "cell_type": "markdown",
      "source": [
        "**1.2 Explanation**\n",
        "I have used 10 convolution layers between 10 and 100 layers, with the first as 100 and decreasing to 10. The results showed are above. With epoch =5 and batch size = 512, the model performed well with train accuracy = 99.20 and test accuracy to 99.19. This model is slightly better than the above method."
      ],
      "metadata": {
        "id": "-cCVMw2YQ91K"
      }
    },
    {
      "cell_type": "markdown",
      "source": [
        "**1.3**"
      ],
      "metadata": {
        "id": "DkWxDQQfGd21"
      }
    },
    {
      "cell_type": "code",
      "source": [
        "cnn_model3 = tf.keras.models.Sequential()\n",
        "\n",
        "cnn_model3.add(tf.keras.layers.Conv2D(10, (3, 3), padding='same', activation='relu'))\n",
        "cnn_model3.add(tf.keras.layers.Conv2D(20, (3, 3), padding='same', activation='relu'))\n",
        "cnn_model3.add(tf.keras.layers.Conv2D(30, (3, 3), padding='same', activation='relu'))\n",
        "\n",
        "cnn_model3.add(tf.keras.layers.MaxPooling2D(pool_size=(2, 2), strides=(2,2)))\n",
        "\n",
        "cnn_model3.add(tf.keras.layers.Conv2D(40, (3, 3), padding='same', activation='relu'))\n",
        "cnn_model3.add(tf.keras.layers.Conv2D(50, (3, 3), padding='same', activation='relu'))\n",
        "cnn_model3.add(tf.keras.layers.Conv2D(60, (3, 3), padding='same', activation='relu'))\n",
        "cnn_model3.add(tf.keras.layers.Conv2D(50, (3, 3), padding='same', activation='relu'))\n",
        "\n",
        "cnn_model3.add(tf.keras.layers.MaxPooling2D(pool_size=(2, 2), strides=(2,2)))\n",
        "\n",
        "cnn_model3.add(tf.keras.layers.Conv2D(40, (3, 3), padding='same', activation='relu'))\n",
        "cnn_model3.add(tf.keras.layers.Conv2D(30, (3, 3), padding='same', activation='relu'))\n",
        "cnn_model3.add(tf.keras.layers.Conv2D(20, (3, 3), padding='same', activation='relu'))\n",
        "\n",
        "cnn_model3.add(tf.keras.layers.Flatten())\n",
        "cnn_model3.add(tf.keras.layers.Dense(10, activation ='softmax'))\n",
        "\n",
        "cnn_model3.compile(optimizer=tf.keras.optimizers.Adam(learning_rate=1e-3) , loss='sparse_categorical_crossentropy', metrics=['accuracy'])\n",
        "cnn_model3.build(input_shape=(1,28,28,1))\n",
        "cnn_model3.summary()"
      ],
      "metadata": {
        "colab": {
          "base_uri": "https://localhost:8080/"
        },
        "id": "Hd9l7-UuOxir",
        "outputId": "7beb0d67-b87b-4445-c566-3d0aa96fa665"
      },
      "execution_count": null,
      "outputs": [
        {
          "output_type": "stream",
          "name": "stdout",
          "text": [
            "Model: \"sequential_3\"\n",
            "_________________________________________________________________\n",
            " Layer (type)                Output Shape              Param #   \n",
            "=================================================================\n",
            " conv2d_30 (Conv2D)          (1, 28, 28, 10)           100       \n",
            "                                                                 \n",
            " conv2d_31 (Conv2D)          (1, 28, 28, 20)           1820      \n",
            "                                                                 \n",
            " conv2d_32 (Conv2D)          (1, 28, 28, 30)           5430      \n",
            "                                                                 \n",
            " max_pooling2d_6 (MaxPooling  (1, 14, 14, 30)          0         \n",
            " 2D)                                                             \n",
            "                                                                 \n",
            " conv2d_33 (Conv2D)          (1, 14, 14, 40)           10840     \n",
            "                                                                 \n",
            " conv2d_34 (Conv2D)          (1, 14, 14, 50)           18050     \n",
            "                                                                 \n",
            " conv2d_35 (Conv2D)          (1, 14, 14, 60)           27060     \n",
            "                                                                 \n",
            " conv2d_36 (Conv2D)          (1, 14, 14, 50)           27050     \n",
            "                                                                 \n",
            " max_pooling2d_7 (MaxPooling  (1, 7, 7, 50)            0         \n",
            " 2D)                                                             \n",
            "                                                                 \n",
            " conv2d_37 (Conv2D)          (1, 7, 7, 40)             18040     \n",
            "                                                                 \n",
            " conv2d_38 (Conv2D)          (1, 7, 7, 30)             10830     \n",
            "                                                                 \n",
            " conv2d_39 (Conv2D)          (1, 7, 7, 20)             5420      \n",
            "                                                                 \n",
            " flatten_3 (Flatten)         (1, 980)                  0         \n",
            "                                                                 \n",
            " dense_3 (Dense)             (1, 10)                   9810      \n",
            "                                                                 \n",
            "=================================================================\n",
            "Total params: 134,450\n",
            "Trainable params: 134,450\n",
            "Non-trainable params: 0\n",
            "_________________________________________________________________\n"
          ]
        }
      ]
    },
    {
      "cell_type": "code",
      "source": [
        "model3 = cnn_model3\n",
        "\n",
        "# Train the model\n",
        "model3.fit(X_Train, Y_Train)\n",
        "\n",
        "# Train the model\n",
        "score = model3.evaluate(X_Test, Y_Test)\n",
        "\n",
        "# Results\n",
        "print('Test loss:', score[0])\n",
        "print('Test accuracy:', score[1])"
      ],
      "metadata": {
        "colab": {
          "base_uri": "https://localhost:8080/"
        },
        "id": "mnNmhvkOaTwZ",
        "outputId": "21b8afc3-16f7-4249-f7dd-56bf21972aa5"
      },
      "execution_count": null,
      "outputs": [
        {
          "output_type": "stream",
          "name": "stdout",
          "text": [
            "1875/1875 [==============================] - 417s 222ms/step - loss: 0.1387 - accuracy: 0.9560\n",
            "313/313 [==============================] - 19s 59ms/step - loss: 0.0567 - accuracy: 0.9829\n",
            "Test loss: 0.05666235834360123\n",
            "Test accuracy: 0.9829000234603882\n"
          ]
        }
      ]
    },
    {
      "cell_type": "code",
      "source": [
        "model3_1 = cnn_model\n",
        "\n",
        "# Train the model\n",
        "model3_1.fit(X_Train, Y_Train, batch_size=512, epochs=5)\n",
        "\n",
        "# Train the model\n",
        "score_3 = model3_1.evaluate(X_Test, Y_Test)\n",
        "\n",
        "#Results\n",
        "print('Test loss:', score_2[0])\n",
        "print('Test accuracy:', score_2[1])"
      ],
      "metadata": {
        "colab": {
          "base_uri": "https://localhost:8080/"
        },
        "id": "Q1R2KnMQGjzH",
        "outputId": "167e3ddc-73a5-45d4-b921-85640fa73454"
      },
      "execution_count": null,
      "outputs": [
        {
          "output_type": "stream",
          "name": "stdout",
          "text": [
            "Epoch 1/5\n",
            "118/118 [==============================] - 437s 4s/step - loss: 0.0087 - accuracy: 0.9972\n",
            "Epoch 2/5\n",
            "118/118 [==============================] - 434s 4s/step - loss: 0.0076 - accuracy: 0.9974\n",
            "Epoch 3/5\n",
            "118/118 [==============================] - 430s 4s/step - loss: 0.0076 - accuracy: 0.9974\n",
            "Epoch 4/5\n",
            "118/118 [==============================] - 429s 4s/step - loss: 0.0083 - accuracy: 0.9973\n",
            "Epoch 5/5\n",
            "118/118 [==============================] - 424s 4s/step - loss: 0.0071 - accuracy: 0.9975\n",
            "313/313 [==============================] - 22s 70ms/step - loss: 0.0303 - accuracy: 0.9920\n",
            "Test loss: 0.022745436057448387\n",
            "Test accuracy: 0.9919999837875366\n"
          ]
        }
      ]
    },
    {
      "cell_type": "markdown",
      "source": [
        "**1 Explanation**\n",
        "I have used 10 convolution layers same as before. I used between 10 and 60 layers, with the first senario increasing up until 60 and decreasing, till the end to 10 back again. I have used the same parameter as before and this is almost same 1.2"
      ],
      "metadata": {
        "id": "VmeTtdCj4KKe"
      }
    },
    {
      "cell_type": "markdown",
      "source": [
        "**Question 2**"
      ],
      "metadata": {
        "id": "Vi0dQVu8kumW"
      }
    },
    {
      "cell_type": "code",
      "source": [
        "(X_Train1, Y_Train1), (X_Test1, Y_Test1) = keras.datasets.cifar10.load_data() # Downloading the mnist data set\n",
        "print(X_Train1.shape, \" -- \", Y_Train1.shape, \" -- \", X_Test1.shape,\" -- \", Y_Test1.shape)"
      ],
      "metadata": {
        "colab": {
          "base_uri": "https://localhost:8080/"
        },
        "id": "kpkShQ_naXJK",
        "outputId": "59f8288a-cc1b-41eb-d9da-5154033d55d1"
      },
      "execution_count": 19,
      "outputs": [
        {
          "output_type": "stream",
          "name": "stdout",
          "text": [
            "Downloading data from https://www.cs.toronto.edu/~kriz/cifar-10-python.tar.gz\n",
            "170498071/170498071 [==============================] - 2s 0us/step\n",
            "(50000, 32, 32, 3)  --  (50000, 1)  --  (10000, 32, 32, 3)  --  (10000, 1)\n"
          ]
        }
      ]
    },
    {
      "cell_type": "code",
      "source": [
        "X_Train1 = X_Train1/255.0\n",
        "X_Test1 = X_Test1/255.0"
      ],
      "metadata": {
        "id": "hu5pJIEqlhKl"
      },
      "execution_count": 20,
      "outputs": []
    },
    {
      "cell_type": "code",
      "source": [
        "cifar10 = tf.keras.models.Sequential()\n",
        "cifar10.add(tf.keras.layers.Conv2D(6, kernel_size = (5, 5), strides = (1, 1), input_shape = (32, 32, 3), activation='relu'))\n",
        "cifar10.add(tf.keras.layers.MaxPooling2D(pool_size=(2, 2), strides=(2,2)))\n",
        "cifar10.add(tf.keras.layers.Conv2D(16, kernel_size = (5, 5), strides = (1, 1), activation = 'relu'))\n",
        "cifar10.add(tf.keras.layers.MaxPooling2D(pool_size=(2, 2), strides=(2,2)))\n",
        "cifar10.add(tf.keras.layers.Conv2D(120, kernel_size = (5, 5), activation = 'relu'))\n",
        "\n",
        "cifar10.add(tf.keras.layers.Flatten())\n",
        "cifar10.add(tf.keras.layers.Dense(84))\n",
        "cifar10.add(tf.keras.layers.Dense(10, activation='softmax'))\n",
        "\n",
        "cifar10.summary()\n"
      ],
      "metadata": {
        "colab": {
          "base_uri": "https://localhost:8080/"
        },
        "id": "HZOBUF6oltg-",
        "outputId": "4d6a726f-04a0-46e7-f3bf-3f940a1ddae7"
      },
      "execution_count": 21,
      "outputs": [
        {
          "output_type": "stream",
          "name": "stdout",
          "text": [
            "Model: \"sequential_4\"\n",
            "_________________________________________________________________\n",
            " Layer (type)                Output Shape              Param #   \n",
            "=================================================================\n",
            " conv2d_40 (Conv2D)          (None, 28, 28, 6)         456       \n",
            "                                                                 \n",
            " max_pooling2d_8 (MaxPooling  (None, 14, 14, 6)        0         \n",
            " 2D)                                                             \n",
            "                                                                 \n",
            " conv2d_41 (Conv2D)          (None, 10, 10, 16)        2416      \n",
            "                                                                 \n",
            " max_pooling2d_9 (MaxPooling  (None, 5, 5, 16)         0         \n",
            " 2D)                                                             \n",
            "                                                                 \n",
            " conv2d_42 (Conv2D)          (None, 1, 1, 120)         48120     \n",
            "                                                                 \n",
            " flatten_4 (Flatten)         (None, 120)               0         \n",
            "                                                                 \n",
            " dense_4 (Dense)             (None, 84)                10164     \n",
            "                                                                 \n",
            " dense_5 (Dense)             (None, 10)                850       \n",
            "                                                                 \n",
            "=================================================================\n",
            "Total params: 62,006\n",
            "Trainable params: 62,006\n",
            "Non-trainable params: 0\n",
            "_________________________________________________________________\n"
          ]
        }
      ]
    },
    {
      "cell_type": "code",
      "source": [
        "cifar10.compile(loss='sparse_categorical_crossentropy', optimizer='adam', metrics=['accuracy'])\n",
        "accuracy= cifar10.fit(X_Train1, Y_Train1, epochs=25, batch_size=2000)"
      ],
      "metadata": {
        "colab": {
          "base_uri": "https://localhost:8080/"
        },
        "id": "-UqLpBc7r2I6",
        "outputId": "883884b5-7ad6-4a72-ab7a-d070f04816f7"
      },
      "execution_count": 22,
      "outputs": [
        {
          "output_type": "stream",
          "name": "stdout",
          "text": [
            "Epoch 1/25\n",
            "25/25 [==============================] - 34s 1s/step - loss: 2.1626 - accuracy: 0.2206\n",
            "Epoch 2/25\n",
            "25/25 [==============================] - 34s 1s/step - loss: 1.8553 - accuracy: 0.3347\n",
            "Epoch 3/25\n",
            "25/25 [==============================] - 31s 1s/step - loss: 1.7104 - accuracy: 0.3858\n",
            "Epoch 4/25\n",
            "25/25 [==============================] - 31s 1s/step - loss: 1.6143 - accuracy: 0.4192\n",
            "Epoch 5/25\n",
            "25/25 [==============================] - 32s 1s/step - loss: 1.5547 - accuracy: 0.4404\n",
            "Epoch 6/25\n",
            "25/25 [==============================] - 31s 1s/step - loss: 1.5122 - accuracy: 0.4557\n",
            "Epoch 7/25\n",
            "25/25 [==============================] - 31s 1s/step - loss: 1.4732 - accuracy: 0.4683\n",
            "Epoch 8/25\n",
            "25/25 [==============================] - 32s 1s/step - loss: 1.4490 - accuracy: 0.4787\n",
            "Epoch 9/25\n",
            "25/25 [==============================] - 31s 1s/step - loss: 1.4221 - accuracy: 0.4897\n",
            "Epoch 10/25\n",
            "25/25 [==============================] - 30s 1s/step - loss: 1.4041 - accuracy: 0.4957\n",
            "Epoch 11/25\n",
            "25/25 [==============================] - 31s 1s/step - loss: 1.3953 - accuracy: 0.4992\n",
            "Epoch 12/25\n",
            "25/25 [==============================] - 32s 1s/step - loss: 1.3729 - accuracy: 0.5088\n",
            "Epoch 13/25\n",
            "25/25 [==============================] - 31s 1s/step - loss: 1.3517 - accuracy: 0.5188\n",
            "Epoch 14/25\n",
            "25/25 [==============================] - 32s 1s/step - loss: 1.3507 - accuracy: 0.5198\n",
            "Epoch 15/25\n",
            "25/25 [==============================] - 31s 1s/step - loss: 1.3343 - accuracy: 0.5242\n",
            "Epoch 16/25\n",
            "25/25 [==============================] - 31s 1s/step - loss: 1.3079 - accuracy: 0.5327\n",
            "Epoch 17/25\n",
            "25/25 [==============================] - 31s 1s/step - loss: 1.2944 - accuracy: 0.5385\n",
            "Epoch 18/25\n",
            "25/25 [==============================] - 32s 1s/step - loss: 1.2870 - accuracy: 0.5431\n",
            "Epoch 19/25\n",
            "25/25 [==============================] - 30s 1s/step - loss: 1.2694 - accuracy: 0.5492\n",
            "Epoch 20/25\n",
            "25/25 [==============================] - 30s 1s/step - loss: 1.2499 - accuracy: 0.5570\n",
            "Epoch 21/25\n",
            "25/25 [==============================] - 32s 1s/step - loss: 1.2521 - accuracy: 0.5587\n",
            "Epoch 22/25\n",
            "25/25 [==============================] - 31s 1s/step - loss: 1.2447 - accuracy: 0.5577\n",
            "Epoch 23/25\n",
            "25/25 [==============================] - 30s 1s/step - loss: 1.2267 - accuracy: 0.5654\n",
            "Epoch 24/25\n",
            "25/25 [==============================] - 32s 1s/step - loss: 1.2157 - accuracy: 0.5702\n",
            "Epoch 25/25\n",
            "25/25 [==============================] - 31s 1s/step - loss: 1.2087 - accuracy: 0.5742\n"
          ]
        }
      ]
    },
    {
      "cell_type": "code",
      "source": [
        "model_score = cifar10.evaluate(X_Test1, Y_Test1)\n",
        "print('Test loss:', model_score[0])\n",
        "print('Test accuracy:', model_score[1])"
      ],
      "metadata": {
        "colab": {
          "base_uri": "https://localhost:8080/"
        },
        "id": "1VtkdbRC6p-U",
        "outputId": "a60455c0-8e1b-449f-a6b1-33ba130c1546"
      },
      "execution_count": 23,
      "outputs": [
        {
          "output_type": "stream",
          "name": "stdout",
          "text": [
            "313/313 [==============================] - 5s 15ms/step - loss: 1.2578 - accuracy: 0.5601\n",
            "Test loss: 1.2577661275863647\n",
            "Test accuracy: 0.5601000189781189\n"
          ]
        }
      ]
    },
    {
      "cell_type": "markdown",
      "source": [
        "**2.1**"
      ],
      "metadata": {
        "id": "Vv5D15KB9-tM"
      }
    },
    {
      "cell_type": "code",
      "source": [
        "lst_lr = [0.0001, 0.001, 0.005, 0.01, 0.1]\n",
        "loss_acc_lst = []\n",
        "loss_lst = []\n",
        "acc_lst = []\n",
        "\n",
        "for lr in lst_lr:\n",
        "    print(\"For LR = \", lr)\n",
        "    model = tf.keras.models.clone_model(cifar10)\n",
        "    model.compile(loss = 'sparse_categorical_crossentropy', optimizer= tf.keras.optimizers.Adam(learning_rate=lr), metrics=['accuracy'])\n",
        "    model.fit(X_Train1, Y_Train1, epochs=25)\n",
        "    loss, acc = model.evaluate(X_Test1, Y_Test1)\n",
        "    loss_acc_lst.append([loss, acc])\n",
        "    loss_lst.append(loss)\n",
        "    acc_lst.append(acc)\n",
        "    print(\"\\n\")"
      ],
      "metadata": {
        "colab": {
          "base_uri": "https://localhost:8080/"
        },
        "id": "vIqx215R9vpF",
        "outputId": "7dd471e4-86f1-478b-ddf7-828767fe37ae"
      },
      "execution_count": 24,
      "outputs": [
        {
          "output_type": "stream",
          "name": "stdout",
          "text": [
            "For LR =  0.0001\n",
            "Epoch 1/25\n",
            "1563/1563 [==============================] - 51s 32ms/step - loss: 1.8709 - accuracy: 0.3242\n",
            "Epoch 2/25\n",
            "1563/1563 [==============================] - 49s 31ms/step - loss: 1.5785 - accuracy: 0.4322\n",
            "Epoch 3/25\n",
            "1563/1563 [==============================] - 50s 32ms/step - loss: 1.4845 - accuracy: 0.4678\n",
            "Epoch 4/25\n",
            "1563/1563 [==============================] - 49s 31ms/step - loss: 1.4273 - accuracy: 0.4895\n",
            "Epoch 5/25\n",
            "1563/1563 [==============================] - 50s 32ms/step - loss: 1.3848 - accuracy: 0.5063\n",
            "Epoch 6/25\n",
            "1563/1563 [==============================] - 49s 31ms/step - loss: 1.3509 - accuracy: 0.5206\n",
            "Epoch 7/25\n",
            "1563/1563 [==============================] - 51s 32ms/step - loss: 1.3235 - accuracy: 0.5290\n",
            "Epoch 8/25\n",
            "1563/1563 [==============================] - 49s 32ms/step - loss: 1.2970 - accuracy: 0.5372\n",
            "Epoch 9/25\n",
            "1563/1563 [==============================] - 51s 32ms/step - loss: 1.2753 - accuracy: 0.5472\n",
            "Epoch 10/25\n",
            "1563/1563 [==============================] - 49s 32ms/step - loss: 1.2525 - accuracy: 0.5563\n",
            "Epoch 11/25\n",
            "1563/1563 [==============================] - 51s 32ms/step - loss: 1.2344 - accuracy: 0.5617\n",
            "Epoch 12/25\n",
            "1563/1563 [==============================] - 51s 33ms/step - loss: 1.2157 - accuracy: 0.5704\n",
            "Epoch 13/25\n",
            "1563/1563 [==============================] - 49s 32ms/step - loss: 1.1998 - accuracy: 0.5742\n",
            "Epoch 14/25\n",
            "1563/1563 [==============================] - 50s 32ms/step - loss: 1.1817 - accuracy: 0.5816\n",
            "Epoch 15/25\n",
            "1563/1563 [==============================] - 49s 32ms/step - loss: 1.1668 - accuracy: 0.5866\n",
            "Epoch 16/25\n",
            "1563/1563 [==============================] - 51s 32ms/step - loss: 1.1521 - accuracy: 0.5918\n",
            "Epoch 17/25\n",
            "1563/1563 [==============================] - 50s 32ms/step - loss: 1.1379 - accuracy: 0.5967\n",
            "Epoch 18/25\n",
            "1563/1563 [==============================] - 51s 33ms/step - loss: 1.1239 - accuracy: 0.6041\n",
            "Epoch 19/25\n",
            "1563/1563 [==============================] - 49s 32ms/step - loss: 1.1122 - accuracy: 0.6091\n",
            "Epoch 20/25\n",
            "1563/1563 [==============================] - 52s 34ms/step - loss: 1.0998 - accuracy: 0.6130\n",
            "Epoch 21/25\n",
            "1563/1563 [==============================] - 49s 32ms/step - loss: 1.0867 - accuracy: 0.6177\n",
            "Epoch 22/25\n",
            "1563/1563 [==============================] - 51s 33ms/step - loss: 1.0776 - accuracy: 0.6216\n",
            "Epoch 23/25\n",
            "1563/1563 [==============================] - 51s 32ms/step - loss: 1.0647 - accuracy: 0.6262\n",
            "Epoch 24/25\n",
            "1563/1563 [==============================] - 49s 32ms/step - loss: 1.0545 - accuracy: 0.6296\n",
            "Epoch 25/25\n",
            "1563/1563 [==============================] - 51s 32ms/step - loss: 1.0443 - accuracy: 0.6317\n",
            "313/313 [==============================] - 5s 15ms/step - loss: 1.1638 - accuracy: 0.5922\n",
            "\n",
            "\n",
            "For LR =  0.001\n",
            "Epoch 1/25\n",
            "1563/1563 [==============================] - 51s 32ms/step - loss: 1.5738 - accuracy: 0.4220\n",
            "Epoch 2/25\n",
            "1563/1563 [==============================] - 49s 31ms/step - loss: 1.3078 - accuracy: 0.5298\n",
            "Epoch 3/25\n",
            "1563/1563 [==============================] - 51s 32ms/step - loss: 1.2079 - accuracy: 0.5681\n",
            "Epoch 4/25\n",
            "1563/1563 [==============================] - 50s 32ms/step - loss: 1.1382 - accuracy: 0.5974\n",
            "Epoch 5/25\n",
            "1563/1563 [==============================] - 50s 32ms/step - loss: 1.0784 - accuracy: 0.6171\n",
            "Epoch 6/25\n",
            "1563/1563 [==============================] - 49s 32ms/step - loss: 1.0359 - accuracy: 0.6339\n",
            "Epoch 7/25\n",
            "1563/1563 [==============================] - 51s 32ms/step - loss: 0.9937 - accuracy: 0.6471\n",
            "Epoch 8/25\n",
            "1563/1563 [==============================] - 51s 33ms/step - loss: 0.9667 - accuracy: 0.6573\n",
            "Epoch 9/25\n",
            "1563/1563 [==============================] - 49s 31ms/step - loss: 0.9371 - accuracy: 0.6691\n",
            "Epoch 10/25\n",
            "1563/1563 [==============================] - 51s 32ms/step - loss: 0.9113 - accuracy: 0.6786\n",
            "Epoch 11/25\n",
            "1563/1563 [==============================] - 49s 31ms/step - loss: 0.8881 - accuracy: 0.6847\n",
            "Epoch 12/25\n",
            "1563/1563 [==============================] - 51s 32ms/step - loss: 0.8611 - accuracy: 0.6952\n",
            "Epoch 13/25\n",
            "1563/1563 [==============================] - 50s 32ms/step - loss: 0.8412 - accuracy: 0.7019\n",
            "Epoch 14/25\n",
            "1563/1563 [==============================] - 51s 32ms/step - loss: 0.8246 - accuracy: 0.7087\n",
            "Epoch 15/25\n",
            "1563/1563 [==============================] - 51s 32ms/step - loss: 0.8013 - accuracy: 0.7156\n",
            "Epoch 16/25\n",
            "1563/1563 [==============================] - 49s 32ms/step - loss: 0.7850 - accuracy: 0.7205\n",
            "Epoch 17/25\n",
            "1563/1563 [==============================] - 51s 32ms/step - loss: 0.7699 - accuracy: 0.7257\n",
            "Epoch 18/25\n",
            "1563/1563 [==============================] - 49s 31ms/step - loss: 0.7568 - accuracy: 0.7293\n",
            "Epoch 19/25\n",
            "1563/1563 [==============================] - 51s 32ms/step - loss: 0.7372 - accuracy: 0.7370\n",
            "Epoch 20/25\n",
            "1563/1563 [==============================] - 49s 31ms/step - loss: 0.7266 - accuracy: 0.7402\n",
            "Epoch 21/25\n",
            "1563/1563 [==============================] - 51s 32ms/step - loss: 0.7116 - accuracy: 0.7461\n",
            "Epoch 22/25\n",
            "1563/1563 [==============================] - 50s 32ms/step - loss: 0.6992 - accuracy: 0.7513\n",
            "Epoch 23/25\n",
            "1563/1563 [==============================] - 49s 31ms/step - loss: 0.6878 - accuracy: 0.7556\n",
            "Epoch 24/25\n",
            "1563/1563 [==============================] - 50s 32ms/step - loss: 0.6757 - accuracy: 0.7588\n",
            "Epoch 25/25\n",
            "1563/1563 [==============================] - 49s 32ms/step - loss: 0.6677 - accuracy: 0.7601\n",
            "313/313 [==============================] - 6s 19ms/step - loss: 1.3461 - accuracy: 0.6030\n",
            "\n",
            "\n",
            "For LR =  0.005\n",
            "Epoch 1/25\n",
            "1563/1563 [==============================] - 49s 31ms/step - loss: 1.9744 - accuracy: 0.2561\n",
            "Epoch 2/25\n",
            "1563/1563 [==============================] - 50s 32ms/step - loss: 1.7457 - accuracy: 0.3569\n",
            "Epoch 3/25\n",
            "1563/1563 [==============================] - 49s 31ms/step - loss: 1.6658 - accuracy: 0.3975\n",
            "Epoch 4/25\n",
            "1563/1563 [==============================] - 50s 32ms/step - loss: 1.6246 - accuracy: 0.4164\n",
            "Epoch 5/25\n",
            "1563/1563 [==============================] - 49s 31ms/step - loss: 1.6059 - accuracy: 0.4231\n",
            "Epoch 6/25\n",
            "1563/1563 [==============================] - 50s 32ms/step - loss: 1.5928 - accuracy: 0.4298\n",
            "Epoch 7/25\n",
            "1563/1563 [==============================] - 50s 32ms/step - loss: 1.5734 - accuracy: 0.4346\n",
            "Epoch 8/25\n",
            "1563/1563 [==============================] - 49s 31ms/step - loss: 1.5635 - accuracy: 0.4385\n",
            "Epoch 9/25\n",
            "1563/1563 [==============================] - 50s 32ms/step - loss: 1.5633 - accuracy: 0.4394\n",
            "Epoch 10/25\n",
            "1563/1563 [==============================] - 49s 31ms/step - loss: 1.5630 - accuracy: 0.4388\n",
            "Epoch 11/25\n",
            "1563/1563 [==============================] - 50s 32ms/step - loss: 1.5519 - accuracy: 0.4459\n",
            "Epoch 12/25\n",
            "1563/1563 [==============================] - 49s 31ms/step - loss: 1.5516 - accuracy: 0.4442\n",
            "Epoch 13/25\n",
            "1563/1563 [==============================] - 50s 32ms/step - loss: 1.5444 - accuracy: 0.4452\n",
            "Epoch 14/25\n",
            "1563/1563 [==============================] - 50s 32ms/step - loss: 1.5417 - accuracy: 0.4510\n",
            "Epoch 15/25\n",
            "1563/1563 [==============================] - 49s 31ms/step - loss: 1.5295 - accuracy: 0.4531\n",
            "Epoch 16/25\n",
            "1563/1563 [==============================] - 50s 32ms/step - loss: 1.5341 - accuracy: 0.4512\n",
            "Epoch 17/25\n",
            "1563/1563 [==============================] - 49s 31ms/step - loss: 1.5354 - accuracy: 0.4486\n",
            "Epoch 18/25\n",
            "1563/1563 [==============================] - 50s 32ms/step - loss: 1.5278 - accuracy: 0.4528\n",
            "Epoch 19/25\n",
            "1563/1563 [==============================] - 49s 31ms/step - loss: 1.5287 - accuracy: 0.4533\n",
            "Epoch 20/25\n",
            "1563/1563 [==============================] - 49s 31ms/step - loss: 1.5249 - accuracy: 0.4545\n",
            "Epoch 21/25\n",
            "1563/1563 [==============================] - 50s 32ms/step - loss: 1.5194 - accuracy: 0.4548\n",
            "Epoch 22/25\n",
            "1563/1563 [==============================] - 49s 31ms/step - loss: 1.5152 - accuracy: 0.4554\n",
            "Epoch 23/25\n",
            "1563/1563 [==============================] - 50s 32ms/step - loss: 1.5138 - accuracy: 0.4570\n",
            "Epoch 24/25\n",
            "1563/1563 [==============================] - 50s 32ms/step - loss: 1.5145 - accuracy: 0.4577\n",
            "Epoch 25/25\n",
            "1563/1563 [==============================] - 49s 32ms/step - loss: 1.5095 - accuracy: 0.4629\n",
            "313/313 [==============================] - 5s 15ms/step - loss: 1.5728 - accuracy: 0.4416\n",
            "\n",
            "\n",
            "For LR =  0.01\n",
            "Epoch 1/25\n",
            "1563/1563 [==============================] - 50s 32ms/step - loss: 2.3065 - accuracy: 0.0994\n",
            "Epoch 2/25\n",
            "1563/1563 [==============================] - 51s 32ms/step - loss: 2.3062 - accuracy: 0.1001\n",
            "Epoch 3/25\n",
            "1563/1563 [==============================] - 51s 32ms/step - loss: 2.3061 - accuracy: 0.1006\n",
            "Epoch 4/25\n",
            "1563/1563 [==============================] - 49s 31ms/step - loss: 2.3060 - accuracy: 0.0979\n",
            "Epoch 5/25\n",
            "1563/1563 [==============================] - 51s 32ms/step - loss: 2.3062 - accuracy: 0.0996\n",
            "Epoch 6/25\n",
            "1563/1563 [==============================] - 49s 32ms/step - loss: 2.3063 - accuracy: 0.1006\n",
            "Epoch 7/25\n",
            "1563/1563 [==============================] - 49s 32ms/step - loss: 2.3066 - accuracy: 0.1012\n",
            "Epoch 8/25\n",
            "1563/1563 [==============================] - 50s 32ms/step - loss: 2.3063 - accuracy: 0.1010\n",
            "Epoch 9/25\n",
            "1563/1563 [==============================] - 49s 31ms/step - loss: 2.3060 - accuracy: 0.1014\n",
            "Epoch 10/25\n",
            "1563/1563 [==============================] - 49s 31ms/step - loss: 2.3061 - accuracy: 0.1007\n",
            "Epoch 11/25\n",
            "1563/1563 [==============================] - 49s 31ms/step - loss: 2.3061 - accuracy: 0.0993\n",
            "Epoch 12/25\n",
            "1563/1563 [==============================] - 50s 32ms/step - loss: 2.3065 - accuracy: 0.0979\n",
            "Epoch 13/25\n",
            "1563/1563 [==============================] - 49s 31ms/step - loss: 2.3060 - accuracy: 0.0999\n",
            "Epoch 14/25\n",
            "1563/1563 [==============================] - 49s 31ms/step - loss: 2.3059 - accuracy: 0.1009\n",
            "Epoch 15/25\n",
            "1563/1563 [==============================] - 49s 31ms/step - loss: 2.3064 - accuracy: 0.1008\n",
            "Epoch 16/25\n",
            "1563/1563 [==============================] - 50s 32ms/step - loss: 2.3067 - accuracy: 0.0998\n",
            "Epoch 17/25\n",
            "1563/1563 [==============================] - 49s 31ms/step - loss: 2.3060 - accuracy: 0.0998\n",
            "Epoch 18/25\n",
            "1563/1563 [==============================] - 49s 31ms/step - loss: 2.3062 - accuracy: 0.1008\n",
            "Epoch 19/25\n",
            "1563/1563 [==============================] - 50s 32ms/step - loss: 2.3062 - accuracy: 0.0995\n",
            "Epoch 20/25\n",
            "1563/1563 [==============================] - 49s 31ms/step - loss: 2.3062 - accuracy: 0.1006\n",
            "Epoch 21/25\n",
            "1563/1563 [==============================] - 49s 31ms/step - loss: 2.3061 - accuracy: 0.1000\n",
            "Epoch 22/25\n",
            "1563/1563 [==============================] - 50s 32ms/step - loss: 2.3067 - accuracy: 0.1004\n",
            "Epoch 23/25\n",
            "1563/1563 [==============================] - 49s 31ms/step - loss: 2.3062 - accuracy: 0.0984\n",
            "Epoch 24/25\n",
            "1563/1563 [==============================] - 49s 31ms/step - loss: 2.3063 - accuracy: 0.1003\n",
            "Epoch 25/25\n",
            "1563/1563 [==============================] - 50s 32ms/step - loss: 2.3062 - accuracy: 0.0983\n",
            "313/313 [==============================] - 5s 15ms/step - loss: 2.3086 - accuracy: 0.1000\n",
            "\n",
            "\n",
            "For LR =  0.1\n",
            "Epoch 1/25\n",
            "1563/1563 [==============================] - 50s 32ms/step - loss: 3.1910 - accuracy: 0.1001\n",
            "Epoch 2/25\n",
            "1563/1563 [==============================] - 49s 32ms/step - loss: 2.3601 - accuracy: 0.1006\n",
            "Epoch 3/25\n",
            "1563/1563 [==============================] - 51s 32ms/step - loss: 2.3350 - accuracy: 0.0977\n",
            "Epoch 4/25\n",
            "1563/1563 [==============================] - 49s 32ms/step - loss: 2.3313 - accuracy: 0.1010\n",
            "Epoch 5/25\n",
            "1563/1563 [==============================] - 50s 32ms/step - loss: 2.3400 - accuracy: 0.0997\n",
            "Epoch 6/25\n",
            "1563/1563 [==============================] - 49s 31ms/step - loss: 2.3621 - accuracy: 0.1020\n",
            "Epoch 7/25\n",
            "1563/1563 [==============================] - 50s 32ms/step - loss: 2.3545 - accuracy: 0.1000\n",
            "Epoch 8/25\n",
            "1563/1563 [==============================] - 49s 31ms/step - loss: 2.3717 - accuracy: 0.1014\n",
            "Epoch 9/25\n",
            "1563/1563 [==============================] - 50s 32ms/step - loss: 2.3660 - accuracy: 0.0991\n",
            "Epoch 10/25\n",
            "1563/1563 [==============================] - 50s 32ms/step - loss: 2.3679 - accuracy: 0.1005\n",
            "Epoch 11/25\n",
            "1563/1563 [==============================] - 49s 31ms/step - loss: 2.3730 - accuracy: 0.0977\n",
            "Epoch 12/25\n",
            "1563/1563 [==============================] - 50s 32ms/step - loss: 2.3727 - accuracy: 0.1002\n",
            "Epoch 13/25\n",
            "1563/1563 [==============================] - 50s 32ms/step - loss: 2.3743 - accuracy: 0.0995\n",
            "Epoch 14/25\n",
            "1563/1563 [==============================] - 49s 31ms/step - loss: 2.3676 - accuracy: 0.1001\n",
            "Epoch 15/25\n",
            "1563/1563 [==============================] - 50s 32ms/step - loss: 2.3734 - accuracy: 0.1010\n",
            "Epoch 16/25\n",
            "1563/1563 [==============================] - 50s 32ms/step - loss: 2.3733 - accuracy: 0.0992\n",
            "Epoch 17/25\n",
            "1563/1563 [==============================] - 49s 31ms/step - loss: 2.3744 - accuracy: 0.1010\n",
            "Epoch 18/25\n",
            "1563/1563 [==============================] - 50s 32ms/step - loss: 2.3711 - accuracy: 0.0982\n",
            "Epoch 19/25\n",
            "1563/1563 [==============================] - 50s 32ms/step - loss: 2.3704 - accuracy: 0.0995\n",
            "Epoch 20/25\n",
            "1563/1563 [==============================] - 48s 31ms/step - loss: 2.3806 - accuracy: 0.0981\n",
            "Epoch 21/25\n",
            "1563/1563 [==============================] - 50s 32ms/step - loss: 2.3715 - accuracy: 0.0977\n",
            "Epoch 22/25\n",
            "1563/1563 [==============================] - 50s 32ms/step - loss: 2.3731 - accuracy: 0.1006\n",
            "Epoch 23/25\n",
            "1563/1563 [==============================] - 49s 31ms/step - loss: 2.3742 - accuracy: 0.1024\n",
            "Epoch 24/25\n",
            "1563/1563 [==============================] - 50s 32ms/step - loss: 2.3671 - accuracy: 0.0988\n",
            "Epoch 25/25\n",
            "1563/1563 [==============================] - 48s 31ms/step - loss: 2.3752 - accuracy: 0.1023\n",
            "313/313 [==============================] - 5s 16ms/step - loss: 2.3792 - accuracy: 0.1000\n",
            "\n",
            "\n"
          ]
        }
      ]
    },
    {
      "cell_type": "markdown",
      "source": [
        "Learning rate vs Accuracy"
      ],
      "metadata": {
        "id": "hUBBNkIqM8kY"
      }
    },
    {
      "cell_type": "code",
      "source": [
        "plt.plot(lst_lr,acc_lst)\n",
        "plt.title(\"Learning rate vs Accuracy\")\n",
        "plt.ylabel(\"Accuracy\")\n",
        "plt.xlabel(\"Learning rate\")\n",
        "plt.show()"
      ],
      "metadata": {
        "colab": {
          "base_uri": "https://localhost:8080/",
          "height": 295
        },
        "id": "s4-ZP2mBDonh",
        "outputId": "648032b4-25cb-4f4f-b79a-cd4ca5904930"
      },
      "execution_count": 25,
      "outputs": [
        {
          "output_type": "display_data",
          "data": {
            "text/plain": [
              "<Figure size 432x288 with 1 Axes>"
            ],
            "image/png": "[encoded data removed]"
          },
          "metadata": {
            "needs_background": "light"
          }
        }
      ]
    },
    {
      "cell_type": "markdown",
      "source": [
        "Learning rate vs Loss"
      ],
      "metadata": {
        "id": "NMl4T3e3NC_4"
      }
    },
    {
      "cell_type": "code",
      "source": [
        "plt.plot(lst_lr,loss_lst)\n",
        "plt.title(\"Learning rate vs Loss\")\n",
        "plt.ylabel(\"Loss\")\n",
        "plt.xlabel(\"Learning rate\")\n",
        "plt.show()"
      ],
      "metadata": {
        "id": "_PW4YrvSLgwP",
        "colab": {
          "base_uri": "https://localhost:8080/",
          "height": 295
        },
        "outputId": "d509539e-3b14-40ac-dae4-bebc435b0899"
      },
      "execution_count": 26,
      "outputs": [
        {
          "output_type": "display_data",
          "data": {
            "text/plain": [
              "<Figure size 432x288 with 1 Axes>"
            ],
            "image/png": "[encoded data removed]"
          },
          "metadata": {
            "needs_background": "light"
          }
        }
      ]
    },
    {
      "cell_type": "markdown",
      "source": [
        "**2.1 Explanation**\n",
        "With the increase in learning rate, the loss increases and the accuracy falls down"
      ],
      "metadata": {
        "id": "yWEvZdXZSrun"
      }
    },
    {
      "cell_type": "markdown",
      "source": [
        "**2.2**"
      ],
      "metadata": {
        "id": "9Rz9VefxNNW1"
      }
    },
    {
      "cell_type": "code",
      "source": [
        "lst_batch_size = [500, 1000, 10000, 20000] # default LR of adam optimizer is 0.001\n",
        "loss_acc_lst_batch = []\n",
        "loss_lst_batch = []\n",
        "acc_lst_batch = []\n",
        "\n",
        "for batch_size in lst_batch_size:\n",
        "    print(\"For LBatch = \", batch_size)\n",
        "    new_model = tf.keras.models.clone_model(cifar10)\n",
        "    new_model.compile(loss = 'sparse_categorical_crossentropy', optimizer= tf.keras.optimizers.Adam(learning_rate=0.001), metrics=['accuracy'])\n",
        "    new_model.fit(X_Train1, Y_Train1, epochs=25, batch_size=batch_size)\n",
        "    loss1, acc1 = new_model.evaluate(X_Test1, Y_Test1)\n",
        "    loss_acc_lst_batch.append([loss1, acc1])\n",
        "    loss_lst_batch.append(loss1)\n",
        "    acc_lst_batch.append(acc1)\n",
        "    print(\"\\n\")"
      ],
      "metadata": {
        "id": "ibkqr75ENQJc",
        "colab": {
          "base_uri": "https://localhost:8080/"
        },
        "outputId": "29e967fc-c204-4b07-c248-ac7d39ecb4e6"
      },
      "execution_count": 28,
      "outputs": [
        {
          "output_type": "stream",
          "name": "stdout",
          "text": [
            "For LBatch =  500\n",
            "Epoch 1/25\n",
            "100/100 [==============================] - 37s 365ms/step - loss: 1.9217 - accuracy: 0.3109\n",
            "Epoch 2/25\n",
            "100/100 [==============================] - 38s 382ms/step - loss: 1.6130 - accuracy: 0.4223\n",
            "Epoch 3/25\n",
            "100/100 [==============================] - 37s 367ms/step - loss: 1.4911 - accuracy: 0.4649\n",
            "Epoch 4/25\n",
            "100/100 [==============================] - 38s 380ms/step - loss: 1.4175 - accuracy: 0.4914\n",
            "Epoch 5/25\n",
            "100/100 [==============================] - 40s 403ms/step - loss: 1.3666 - accuracy: 0.5111\n",
            "Epoch 6/25\n",
            "100/100 [==============================] - 39s 386ms/step - loss: 1.3242 - accuracy: 0.5252\n",
            "Epoch 7/25\n",
            "100/100 [==============================] - 37s 370ms/step - loss: 1.2944 - accuracy: 0.5399\n",
            "Epoch 8/25\n",
            "100/100 [==============================] - 44s 443ms/step - loss: 1.2605 - accuracy: 0.5511\n",
            "Epoch 9/25\n",
            "100/100 [==============================] - 40s 397ms/step - loss: 1.2282 - accuracy: 0.5654\n",
            "Epoch 10/25\n",
            "100/100 [==============================] - 38s 377ms/step - loss: 1.2062 - accuracy: 0.5730\n",
            "Epoch 11/25\n",
            "100/100 [==============================] - 36s 365ms/step - loss: 1.1788 - accuracy: 0.5831\n",
            "Epoch 12/25\n",
            "100/100 [==============================] - 38s 383ms/step - loss: 1.1590 - accuracy: 0.5887\n",
            "Epoch 13/25\n",
            "100/100 [==============================] - 36s 364ms/step - loss: 1.1363 - accuracy: 0.5989\n",
            "Epoch 14/25\n",
            "100/100 [==============================] - 39s 387ms/step - loss: 1.1168 - accuracy: 0.6073\n",
            "Epoch 15/25\n",
            "100/100 [==============================] - 37s 365ms/step - loss: 1.0976 - accuracy: 0.6129\n",
            "Epoch 16/25\n",
            "100/100 [==============================] - 38s 379ms/step - loss: 1.0826 - accuracy: 0.6164\n",
            "Epoch 17/25\n",
            "100/100 [==============================] - 36s 363ms/step - loss: 1.0652 - accuracy: 0.6245\n",
            "Epoch 18/25\n",
            "100/100 [==============================] - 38s 378ms/step - loss: 1.0500 - accuracy: 0.6303\n",
            "Epoch 19/25\n",
            "100/100 [==============================] - 37s 365ms/step - loss: 1.0414 - accuracy: 0.6337\n",
            "Epoch 20/25\n",
            "100/100 [==============================] - 38s 377ms/step - loss: 1.0192 - accuracy: 0.6425\n",
            "Epoch 21/25\n",
            "100/100 [==============================] - 36s 365ms/step - loss: 1.0132 - accuracy: 0.6423\n",
            "Epoch 22/25\n",
            "100/100 [==============================] - 37s 366ms/step - loss: 0.9934 - accuracy: 0.6494\n",
            "Epoch 23/25\n",
            "100/100 [==============================] - 38s 377ms/step - loss: 0.9863 - accuracy: 0.6526\n",
            "Epoch 24/25\n",
            "100/100 [==============================] - 38s 380ms/step - loss: 0.9723 - accuracy: 0.6582\n",
            "Epoch 25/25\n",
            "100/100 [==============================] - 36s 365ms/step - loss: 0.9603 - accuracy: 0.6625\n",
            "313/313 [==============================] - 5s 15ms/step - loss: 1.1539 - accuracy: 0.6047\n",
            "\n",
            "\n",
            "For LBatch =  1000\n",
            "Epoch 1/25\n",
            "50/50 [==============================] - 37s 709ms/step - loss: 2.0150 - accuracy: 0.2774\n",
            "Epoch 2/25\n",
            "50/50 [==============================] - 37s 745ms/step - loss: 1.7064 - accuracy: 0.3957\n",
            "Epoch 3/25\n",
            "50/50 [==============================] - 40s 798ms/step - loss: 1.5504 - accuracy: 0.4436\n",
            "Epoch 4/25\n",
            "50/50 [==============================] - 44s 875ms/step - loss: 1.4683 - accuracy: 0.4710\n",
            "Epoch 5/25\n",
            "50/50 [==============================] - 43s 865ms/step - loss: 1.4255 - accuracy: 0.4892\n",
            "Epoch 6/25\n",
            "50/50 [==============================] - 43s 856ms/step - loss: 1.3758 - accuracy: 0.5066\n",
            "Epoch 7/25\n",
            "50/50 [==============================] - 36s 726ms/step - loss: 1.3515 - accuracy: 0.5168\n",
            "Epoch 8/25\n",
            "50/50 [==============================] - 38s 754ms/step - loss: 1.3180 - accuracy: 0.5325\n",
            "Epoch 9/25\n",
            "50/50 [==============================] - 40s 793ms/step - loss: 1.2905 - accuracy: 0.5441\n",
            "Epoch 10/25\n",
            "50/50 [==============================] - 40s 782ms/step - loss: 1.2594 - accuracy: 0.5538\n",
            "Epoch 11/25\n",
            "50/50 [==============================] - 40s 794ms/step - loss: 1.2415 - accuracy: 0.5597\n",
            "Epoch 12/25\n",
            "50/50 [==============================] - 41s 810ms/step - loss: 1.2164 - accuracy: 0.5706\n",
            "Epoch 13/25\n",
            "50/50 [==============================] - 38s 752ms/step - loss: 1.2040 - accuracy: 0.5731\n",
            "Epoch 14/25\n",
            "50/50 [==============================] - 36s 716ms/step - loss: 1.1957 - accuracy: 0.5790\n",
            "Epoch 15/25\n",
            "50/50 [==============================] - 36s 713ms/step - loss: 1.1648 - accuracy: 0.5900\n",
            "Epoch 16/25\n",
            "50/50 [==============================] - 38s 751ms/step - loss: 1.1605 - accuracy: 0.5919\n",
            "Epoch 17/25\n",
            "50/50 [==============================] - 36s 718ms/step - loss: 1.1401 - accuracy: 0.5998\n",
            "Epoch 18/25\n",
            "50/50 [==============================] - 37s 746ms/step - loss: 1.1344 - accuracy: 0.6003\n",
            "Epoch 19/25\n",
            "50/50 [==============================] - 36s 713ms/step - loss: 1.1126 - accuracy: 0.6092\n",
            "Epoch 20/25\n",
            "50/50 [==============================] - 37s 746ms/step - loss: 1.1103 - accuracy: 0.6128\n",
            "Epoch 21/25\n",
            "50/50 [==============================] - 36s 718ms/step - loss: 1.0992 - accuracy: 0.6135\n",
            "Epoch 22/25\n",
            "50/50 [==============================] - 37s 744ms/step - loss: 1.0863 - accuracy: 0.6183\n",
            "Epoch 23/25\n",
            "50/50 [==============================] - 36s 719ms/step - loss: 1.0709 - accuracy: 0.6235\n",
            "Epoch 24/25\n",
            "50/50 [==============================] - 36s 719ms/step - loss: 1.0564 - accuracy: 0.6299\n",
            "Epoch 25/25\n",
            "50/50 [==============================] - 37s 740ms/step - loss: 1.0547 - accuracy: 0.6306\n",
            "313/313 [==============================] - 5s 15ms/step - loss: 1.1368 - accuracy: 0.6016\n",
            "\n",
            "\n",
            "For LBatch =  10000\n",
            "Epoch 1/25\n",
            "5/5 [==============================] - 32s 6s/step - loss: 2.2849 - accuracy: 0.1288\n",
            "Epoch 2/25\n",
            "5/5 [==============================] - 30s 6s/step - loss: 2.2138 - accuracy: 0.2281\n",
            "Epoch 3/25\n",
            "5/5 [==============================] - 30s 6s/step - loss: 2.0952 - accuracy: 0.2598\n",
            "Epoch 4/25\n",
            "5/5 [==============================] - 31s 6s/step - loss: 2.0131 - accuracy: 0.2834\n",
            "Epoch 5/25\n",
            "5/5 [==============================] - 30s 6s/step - loss: 1.9527 - accuracy: 0.3067\n",
            "Epoch 6/25\n",
            "5/5 [==============================] - 32s 6s/step - loss: 1.9020 - accuracy: 0.3264\n",
            "Epoch 7/25\n",
            "5/5 [==============================] - 30s 6s/step - loss: 1.8571 - accuracy: 0.3402\n",
            "Epoch 8/25\n",
            "5/5 [==============================] - 30s 6s/step - loss: 1.8178 - accuracy: 0.3564\n",
            "Epoch 9/25\n",
            "5/5 [==============================] - 32s 6s/step - loss: 1.7856 - accuracy: 0.3673\n",
            "Epoch 10/25\n",
            "5/5 [==============================] - 30s 6s/step - loss: 1.7604 - accuracy: 0.3750\n",
            "Epoch 11/25\n",
            "5/5 [==============================] - 31s 6s/step - loss: 1.7328 - accuracy: 0.3838\n",
            "Epoch 12/25\n",
            "5/5 [==============================] - 30s 6s/step - loss: 1.7120 - accuracy: 0.3875\n",
            "Epoch 13/25\n",
            "5/5 [==============================] - 30s 6s/step - loss: 1.6938 - accuracy: 0.3938\n",
            "Epoch 14/25\n",
            "5/5 [==============================] - 32s 6s/step - loss: 1.6709 - accuracy: 0.4007\n",
            "Epoch 15/25\n",
            "5/5 [==============================] - 31s 6s/step - loss: 1.6598 - accuracy: 0.4029\n",
            "Epoch 16/25\n",
            "5/5 [==============================] - 32s 6s/step - loss: 1.6390 - accuracy: 0.4115\n",
            "Epoch 17/25\n",
            "5/5 [==============================] - 31s 6s/step - loss: 1.6199 - accuracy: 0.4176\n",
            "Epoch 18/25\n",
            "5/5 [==============================] - 30s 6s/step - loss: 1.6023 - accuracy: 0.4239\n",
            "Epoch 19/25\n",
            "5/5 [==============================] - 31s 6s/step - loss: 1.5901 - accuracy: 0.4295\n",
            "Epoch 20/25\n",
            "5/5 [==============================] - 32s 6s/step - loss: 1.5815 - accuracy: 0.4313\n",
            "Epoch 21/25\n",
            "5/5 [==============================] - 30s 6s/step - loss: 1.5639 - accuracy: 0.4388\n",
            "Epoch 22/25\n",
            "5/5 [==============================] - 30s 6s/step - loss: 1.5483 - accuracy: 0.4441\n",
            "Epoch 23/25\n",
            "5/5 [==============================] - 30s 6s/step - loss: 1.5391 - accuracy: 0.4471\n",
            "Epoch 24/25\n",
            "5/5 [==============================] - 32s 6s/step - loss: 1.5230 - accuracy: 0.4547\n",
            "Epoch 25/25\n",
            "5/5 [==============================] - 32s 6s/step - loss: 1.5136 - accuracy: 0.4564\n",
            "313/313 [==============================] - 6s 15ms/step - loss: 1.5103 - accuracy: 0.4568\n",
            "\n",
            "\n",
            "For LBatch =  20000\n",
            "Epoch 1/25\n",
            "3/3 [==============================] - 36s 9s/step - loss: 2.2904 - accuracy: 0.1232\n",
            "Epoch 2/25\n",
            "3/3 [==============================] - 29s 9s/step - loss: 2.2221 - accuracy: 0.1919\n",
            "Epoch 3/25\n",
            "3/3 [==============================] - 30s 9s/step - loss: 2.1279 - accuracy: 0.2319\n",
            "Epoch 4/25\n",
            "3/3 [==============================] - 28s 9s/step - loss: 2.0706 - accuracy: 0.2476\n",
            "Epoch 5/25\n",
            "3/3 [==============================] - 31s 9s/step - loss: 2.0294 - accuracy: 0.2686\n",
            "Epoch 6/25\n",
            "3/3 [==============================] - 29s 9s/step - loss: 2.0034 - accuracy: 0.2886\n",
            "Epoch 7/25\n",
            "3/3 [==============================] - 29s 9s/step - loss: 1.9844 - accuracy: 0.2895\n",
            "Epoch 8/25\n",
            "3/3 [==============================] - 29s 9s/step - loss: 1.9604 - accuracy: 0.3020\n",
            "Epoch 9/25\n",
            "3/3 [==============================] - 31s 9s/step - loss: 1.9429 - accuracy: 0.3084\n",
            "Epoch 10/25\n",
            "3/3 [==============================] - 30s 9s/step - loss: 1.9234 - accuracy: 0.3153\n",
            "Epoch 11/25\n",
            "3/3 [==============================] - 30s 9s/step - loss: 1.9070 - accuracy: 0.3223\n",
            "Epoch 12/25\n",
            "3/3 [==============================] - 29s 9s/step - loss: 1.8896 - accuracy: 0.3272\n",
            "Epoch 13/25\n",
            "3/3 [==============================] - 29s 9s/step - loss: 1.8738 - accuracy: 0.3339\n",
            "Epoch 14/25\n",
            "3/3 [==============================] - 30s 9s/step - loss: 1.8562 - accuracy: 0.3413\n",
            "Epoch 15/25\n",
            "3/3 [==============================] - 30s 9s/step - loss: 1.8378 - accuracy: 0.3498\n",
            "Epoch 16/25\n",
            "3/3 [==============================] - 29s 9s/step - loss: 1.8240 - accuracy: 0.3543\n",
            "Epoch 17/25\n",
            "3/3 [==============================] - 29s 9s/step - loss: 1.8101 - accuracy: 0.3585\n",
            "Epoch 18/25\n",
            "3/3 [==============================] - 29s 9s/step - loss: 1.7929 - accuracy: 0.3639\n",
            "Epoch 19/25\n",
            "3/3 [==============================] - 30s 9s/step - loss: 1.7835 - accuracy: 0.3683\n",
            "Epoch 20/25\n",
            "3/3 [==============================] - 30s 9s/step - loss: 1.7683 - accuracy: 0.3751\n",
            "Epoch 21/25\n",
            "3/3 [==============================] - 33s 10s/step - loss: 1.7502 - accuracy: 0.3806\n",
            "Epoch 22/25\n",
            "3/3 [==============================] - 29s 9s/step - loss: 1.7336 - accuracy: 0.3878\n",
            "Epoch 23/25\n",
            "3/3 [==============================] - 29s 9s/step - loss: 1.7157 - accuracy: 0.3946\n",
            "Epoch 24/25\n",
            "3/3 [==============================] - 31s 9s/step - loss: 1.6983 - accuracy: 0.4004\n",
            "Epoch 25/25\n",
            "3/3 [==============================] - 31s 10s/step - loss: 1.6856 - accuracy: 0.4054\n",
            "313/313 [==============================] - 5s 15ms/step - loss: 1.7072 - accuracy: 0.3884\n",
            "\n",
            "\n"
          ]
        }
      ]
    },
    {
      "cell_type": "markdown",
      "source": [
        "Batch Size vs Accuracy and Loss"
      ],
      "metadata": {
        "id": "1Bg7RF03PKfg"
      }
    },
    {
      "cell_type": "code",
      "source": [
        "plt.plot(lst_batch_size, acc_lst_batch, label=\"Accuracy\")\n",
        "plt.plot(lst_batch_size, loss_lst_batch, label=\"Loss\")\n",
        "plt.legend()\n",
        "plt.title(\"Batch size vs Accuracy\")\n",
        "plt.ylabel(\"Accuracy\")\n",
        "plt.xlabel(\"Batch size\")\n",
        "plt.show()"
      ],
      "metadata": {
        "id": "EmigqXwOPOw5",
        "colab": {
          "base_uri": "https://localhost:8080/",
          "height": 295
        },
        "outputId": "39f23bfa-af5b-4427-9d27-c7b694007474"
      },
      "execution_count": 29,
      "outputs": [
        {
          "output_type": "display_data",
          "data": {
            "text/plain": [
              "<Figure size 432x288 with 1 Axes>"
            ],
            "image/png": "[encoded data removed]"
          },
          "metadata": {
            "needs_background": "light"
          }
        }
      ]
    },
    {
      "cell_type": "markdown",
      "source": [
        "Batch size vs Accuracy"
      ],
      "metadata": {
        "id": "Qxlo6wOUPW__"
      }
    },
    {
      "cell_type": "code",
      "source": [
        "plt.plot(lst_batch_size, acc_lst_batch)\n",
        "plt.title(\"Batch size vs Accuracy\")\n",
        "plt.ylabel(\"Accuracy\")\n",
        "plt.xlabel(\"Batch size\")\n",
        "plt.show()"
      ],
      "metadata": {
        "id": "jkpm13rgPZw7",
        "colab": {
          "base_uri": "https://localhost:8080/",
          "height": 295
        },
        "outputId": "7893042f-3d90-4da2-8aa1-74d67e1f97d7"
      },
      "execution_count": 30,
      "outputs": [
        {
          "output_type": "display_data",
          "data": {
            "text/plain": [
              "<Figure size 432x288 with 1 Axes>"
            ],
            "image/png": "[encoded data removed]"
          },
          "metadata": {
            "needs_background": "light"
          }
        }
      ]
    },
    {
      "cell_type": "markdown",
      "source": [
        "Batch Size vs Loss"
      ],
      "metadata": {
        "id": "FbwIinKKPjpE"
      }
    },
    {
      "cell_type": "code",
      "source": [
        "plt.plot(lst_batch_size, loss_lst_batch)\n",
        "plt.title(\"Batch size vs Loss\")\n",
        "plt.ylabel(\"Loss\")\n",
        "plt.xlabel(\"Batch size\")\n",
        "plt.show()"
      ],
      "metadata": {
        "id": "32ld57JLPhQL",
        "colab": {
          "base_uri": "https://localhost:8080/",
          "height": 295
        },
        "outputId": "1d59d723-91e5-4609-fb54-9d9a6bf60c45"
      },
      "execution_count": null,
      "outputs": [
        {
          "output_type": "display_data",
          "data": {
            "text/plain": [
              "<Figure size 432x288 with 1 Axes>"
            ],
            "image/png": "[encoded data removed]"
          },
          "metadata": {
            "needs_background": "light"
          }
        }
      ]
    },
    {
      "cell_type": "markdown",
      "source": [
        "**2.2**\n",
        "As we can see from the above three graphs, the loss increases while accuracy decreases with increase in batch size which is similar to learning rate"
      ],
      "metadata": {
        "id": "bcor-2Eega0i"
      }
    },
    {
      "cell_type": "markdown",
      "source": [
        "**2.3**"
      ],
      "metadata": {
        "id": "LJUk7UkPPt9i"
      }
    },
    {
      "cell_type": "code",
      "source": [
        "# Choosing lr = 0.005, epoch = 25, batch = 1000\n",
        "model = tf.keras.models.clone_model(cifar10)\n",
        "model.compile(loss = 'sparse_categorical_crossentropy', optimizer= tf.keras.optimizers.Adam(learning_rate=0.005), metrics=['accuracy'])\n",
        "model.fit(X_Train1, Y_Train1, epochs=25, batch_size=1000)\n",
        "loss__, acc__ = model.evaluate(X_Test1, Y_Test1)"
      ],
      "metadata": {
        "id": "Mg092gb-Phc4",
        "colab": {
          "base_uri": "https://localhost:8080/"
        },
        "outputId": "1bd0cb20-b8f5-4b49-f082-9d1b9ac0a51d"
      },
      "execution_count": null,
      "outputs": [
        {
          "output_type": "stream",
          "name": "stdout",
          "text": [
            "Epoch 1/25\n",
            "50/50 [==============================] - 22s 426ms/step - loss: 1.9983 - accuracy: 0.2710\n",
            "Epoch 2/25\n",
            "50/50 [==============================] - 22s 443ms/step - loss: 1.5278 - accuracy: 0.4456\n",
            "Epoch 3/25\n",
            "50/50 [==============================] - 21s 426ms/step - loss: 1.3848 - accuracy: 0.5022\n",
            "Epoch 4/25\n",
            "50/50 [==============================] - 21s 426ms/step - loss: 1.3201 - accuracy: 0.5282\n",
            "Epoch 5/25\n",
            "50/50 [==============================] - 21s 428ms/step - loss: 1.2520 - accuracy: 0.5521\n",
            "Epoch 6/25\n",
            "50/50 [==============================] - 21s 426ms/step - loss: 1.2169 - accuracy: 0.5656\n",
            "Epoch 7/25\n",
            "50/50 [==============================] - 21s 427ms/step - loss: 1.1695 - accuracy: 0.5846\n",
            "Epoch 8/25\n",
            "50/50 [==============================] - 21s 427ms/step - loss: 1.1536 - accuracy: 0.5912\n",
            "Epoch 9/25\n",
            "50/50 [==============================] - 21s 426ms/step - loss: 1.1145 - accuracy: 0.6041\n",
            "Epoch 10/25\n",
            "50/50 [==============================] - 21s 428ms/step - loss: 1.0893 - accuracy: 0.6122\n",
            "Epoch 11/25\n",
            "50/50 [==============================] - 21s 426ms/step - loss: 1.0681 - accuracy: 0.6203\n",
            "Epoch 12/25\n",
            "50/50 [==============================] - 21s 427ms/step - loss: 1.0213 - accuracy: 0.6390\n",
            "Epoch 13/25\n",
            "50/50 [==============================] - 21s 427ms/step - loss: 1.0078 - accuracy: 0.6429\n",
            "Epoch 14/25\n",
            "50/50 [==============================] - 22s 443ms/step - loss: 1.0018 - accuracy: 0.6475\n",
            "Epoch 15/25\n",
            "50/50 [==============================] - 21s 429ms/step - loss: 0.9793 - accuracy: 0.6534\n",
            "Epoch 16/25\n",
            "50/50 [==============================] - 21s 428ms/step - loss: 0.9559 - accuracy: 0.6616\n",
            "Epoch 17/25\n",
            "50/50 [==============================] - 21s 428ms/step - loss: 0.9502 - accuracy: 0.6646\n",
            "Epoch 18/25\n",
            "50/50 [==============================] - 21s 428ms/step - loss: 0.9362 - accuracy: 0.6697\n",
            "Epoch 19/25\n",
            "50/50 [==============================] - 21s 429ms/step - loss: 0.9024 - accuracy: 0.6818\n",
            "Epoch 20/25\n",
            "50/50 [==============================] - 21s 426ms/step - loss: 0.8985 - accuracy: 0.6832\n",
            "Epoch 21/25\n",
            "50/50 [==============================] - 21s 428ms/step - loss: 0.8749 - accuracy: 0.6898\n",
            "Epoch 22/25\n",
            "50/50 [==============================] - 21s 428ms/step - loss: 0.8592 - accuracy: 0.6960\n",
            "Epoch 23/25\n",
            "50/50 [==============================] - 22s 430ms/step - loss: 0.8594 - accuracy: 0.6967\n",
            "Epoch 24/25\n",
            "50/50 [==============================] - 21s 429ms/step - loss: 0.8367 - accuracy: 0.7041\n",
            "Epoch 25/25\n",
            "50/50 [==============================] - 22s 430ms/step - loss: 0.8261 - accuracy: 0.7075\n",
            "313/313 [==============================] - 3s 9ms/step - loss: 1.2012 - accuracy: 0.6028\n"
          ]
        }
      ]
    },
    {
      "cell_type": "markdown",
      "source": [
        "By Choosing lr = 0.005, epoch = 25, batch = 1000 the training accuracy is 70.75% while test accuracy is 60.28%"
      ],
      "metadata": {
        "id": "Eue_rCxAhEkK"
      }
    },
    {
      "cell_type": "code",
      "source": [
        "# Choosing lr = 0.005, epoch = 25, batch = 500\n",
        "\n",
        "model1 = tf.keras.models.clone_model(cifar10)\n",
        "model1.compile(loss = 'sparse_categorical_crossentropy', optimizer= tf.keras.optimizers.Adam(learning_rate=0.005), metrics=['accuracy'])\n",
        "model1.fit(X_Train1, Y_Train1, epochs=25, batch_size=500)\n",
        "loss, acc = model1.evaluate(X_Test1, Y_Test1)"
      ],
      "metadata": {
        "id": "yeX3FDZPQPQv",
        "colab": {
          "base_uri": "https://localhost:8080/"
        },
        "outputId": "abdfe01d-cc98-4867-cccc-e6c67f0d4c6f"
      },
      "execution_count": null,
      "outputs": [
        {
          "output_type": "stream",
          "name": "stdout",
          "text": [
            "Epoch 1/25\n",
            "100/100 [==============================] - 23s 222ms/step - loss: 1.7996 - accuracy: 0.3424\n",
            "Epoch 2/25\n",
            "100/100 [==============================] - 22s 223ms/step - loss: 1.4600 - accuracy: 0.4719\n",
            "Epoch 3/25\n",
            "100/100 [==============================] - 22s 222ms/step - loss: 1.3478 - accuracy: 0.5157\n",
            "Epoch 4/25\n",
            "100/100 [==============================] - 22s 221ms/step - loss: 1.2760 - accuracy: 0.5448\n",
            "Epoch 5/25\n",
            "100/100 [==============================] - 23s 230ms/step - loss: 1.2066 - accuracy: 0.5699\n",
            "Epoch 6/25\n",
            "100/100 [==============================] - 22s 222ms/step - loss: 1.1601 - accuracy: 0.5842\n",
            "Epoch 7/25\n",
            "100/100 [==============================] - 22s 223ms/step - loss: 1.1257 - accuracy: 0.5997\n",
            "Epoch 8/25\n",
            "100/100 [==============================] - 22s 222ms/step - loss: 1.0986 - accuracy: 0.6076\n",
            "Epoch 9/25\n",
            "100/100 [==============================] - 22s 222ms/step - loss: 1.0835 - accuracy: 0.6140\n",
            "Epoch 10/25\n",
            "100/100 [==============================] - 22s 223ms/step - loss: 1.0455 - accuracy: 0.6290\n",
            "Epoch 11/25\n",
            "100/100 [==============================] - 22s 222ms/step - loss: 1.0185 - accuracy: 0.6376\n",
            "Epoch 12/25\n",
            "100/100 [==============================] - 22s 222ms/step - loss: 1.0125 - accuracy: 0.6404\n",
            "Epoch 13/25\n",
            "100/100 [==============================] - 22s 221ms/step - loss: 0.9767 - accuracy: 0.6526\n",
            "Epoch 14/25\n",
            "100/100 [==============================] - 22s 223ms/step - loss: 0.9828 - accuracy: 0.6502\n",
            "Epoch 15/25\n",
            "100/100 [==============================] - 22s 223ms/step - loss: 0.9606 - accuracy: 0.6582\n",
            "Epoch 16/25\n",
            "100/100 [==============================] - 22s 223ms/step - loss: 0.9402 - accuracy: 0.6650\n",
            "Epoch 17/25\n",
            "100/100 [==============================] - 23s 232ms/step - loss: 0.9263 - accuracy: 0.6710\n",
            "Epoch 18/25\n",
            "100/100 [==============================] - 22s 224ms/step - loss: 0.9200 - accuracy: 0.6736\n",
            "Epoch 19/25\n",
            "100/100 [==============================] - 22s 224ms/step - loss: 0.8962 - accuracy: 0.6814\n",
            "Epoch 20/25\n",
            "100/100 [==============================] - 22s 224ms/step - loss: 0.8815 - accuracy: 0.6879\n",
            "Epoch 21/25\n",
            "100/100 [==============================] - 22s 224ms/step - loss: 0.8741 - accuracy: 0.6893\n",
            "Epoch 22/25\n",
            "100/100 [==============================] - 23s 225ms/step - loss: 0.8701 - accuracy: 0.6906\n",
            "Epoch 23/25\n",
            "100/100 [==============================] - 25s 247ms/step - loss: 0.8612 - accuracy: 0.6906\n",
            "Epoch 24/25\n",
            "100/100 [==============================] - 23s 228ms/step - loss: 0.8575 - accuracy: 0.6931\n",
            "Epoch 25/25\n",
            "100/100 [==============================] - 22s 225ms/step - loss: 0.8265 - accuracy: 0.7075\n",
            "313/313 [==============================] - 3s 9ms/step - loss: 1.2787 - accuracy: 0.5906\n"
          ]
        }
      ]
    },
    {
      "cell_type": "markdown",
      "source": [
        "By Choosing lr = 0.005, epoch = 25, batch = 500 the training accuracy is 70.75% while test accuracy is 59.06% which is slightly less than the above"
      ],
      "metadata": {
        "id": "xkVuvhuhhVn3"
      }
    },
    {
      "cell_type": "code",
      "source": [
        "#Choosing lr = 0.005, epoch = 50, batch = 500 increasing epochs to improve accuracy metrics\n",
        "\n",
        "model2 = tf.keras.models.clone_model(cifar10)\n",
        "model2.compile(loss = 'sparse_categorical_crossentropy', optimizer= tf.keras.optimizers.Adam(learning_rate=0.005), metrics=['accuracy'])\n",
        "model2.fit(X_Train1, Y_Train1, epochs=50, batch_size=500)\n",
        "loss, acc = model2.evaluate(X_Test1, Y_Test1)"
      ],
      "metadata": {
        "colab": {
          "base_uri": "https://localhost:8080/"
        },
        "id": "TLar6-e4TyTb",
        "outputId": "c8b4ad0e-2772-408d-c80a-e192a239b110"
      },
      "execution_count": null,
      "outputs": [
        {
          "output_type": "stream",
          "name": "stdout",
          "text": [
            "Epoch 1/50\n",
            "100/100 [==============================] - 19s 188ms/step - loss: 1.8619 - accuracy: 0.3192\n",
            "Epoch 2/50\n",
            "100/100 [==============================] - 19s 189ms/step - loss: 1.5055 - accuracy: 0.4525\n",
            "Epoch 3/50\n",
            "100/100 [==============================] - 19s 189ms/step - loss: 1.3817 - accuracy: 0.4970\n",
            "Epoch 4/50\n",
            "100/100 [==============================] - 19s 189ms/step - loss: 1.2952 - accuracy: 0.5330\n",
            "Epoch 5/50\n",
            "100/100 [==============================] - 19s 189ms/step - loss: 1.2330 - accuracy: 0.5591\n",
            "Epoch 6/50\n",
            "100/100 [==============================] - 19s 188ms/step - loss: 1.1958 - accuracy: 0.5716\n",
            "Epoch 7/50\n",
            "100/100 [==============================] - 20s 197ms/step - loss: 1.1498 - accuracy: 0.5920\n",
            "Epoch 8/50\n",
            "100/100 [==============================] - 24s 240ms/step - loss: 1.1094 - accuracy: 0.6056\n",
            "Epoch 9/50\n",
            "100/100 [==============================] - 26s 260ms/step - loss: 1.0866 - accuracy: 0.6122\n",
            "Epoch 10/50\n",
            "100/100 [==============================] - 21s 214ms/step - loss: 1.0830 - accuracy: 0.6144\n",
            "Epoch 11/50\n",
            "100/100 [==============================] - 19s 191ms/step - loss: 1.0481 - accuracy: 0.6268\n",
            "Epoch 12/50\n",
            "100/100 [==============================] - 20s 199ms/step - loss: 1.0205 - accuracy: 0.6370\n",
            "Epoch 13/50\n",
            "100/100 [==============================] - 20s 197ms/step - loss: 0.9917 - accuracy: 0.6467\n",
            "Epoch 14/50\n",
            "100/100 [==============================] - 19s 189ms/step - loss: 0.9851 - accuracy: 0.6502\n",
            "Epoch 15/50\n",
            "100/100 [==============================] - 20s 201ms/step - loss: 0.9636 - accuracy: 0.6558\n",
            "Epoch 16/50\n",
            "100/100 [==============================] - 23s 232ms/step - loss: 0.9488 - accuracy: 0.6627\n",
            "Epoch 17/50\n",
            "100/100 [==============================] - 20s 197ms/step - loss: 0.9406 - accuracy: 0.6658\n",
            "Epoch 18/50\n",
            "100/100 [==============================] - 19s 190ms/step - loss: 0.9206 - accuracy: 0.6734\n",
            "Epoch 19/50\n",
            "100/100 [==============================] - 19s 190ms/step - loss: 0.9061 - accuracy: 0.6762\n",
            "Epoch 20/50\n",
            "100/100 [==============================] - 19s 190ms/step - loss: 0.8961 - accuracy: 0.6811\n",
            "Epoch 21/50\n",
            "100/100 [==============================] - 20s 196ms/step - loss: 0.8917 - accuracy: 0.6843\n",
            "Epoch 22/50\n",
            "100/100 [==============================] - 19s 189ms/step - loss: 0.8741 - accuracy: 0.6882\n",
            "Epoch 23/50\n",
            "100/100 [==============================] - 20s 197ms/step - loss: 0.8752 - accuracy: 0.6883\n",
            "Epoch 24/50\n",
            "100/100 [==============================] - 19s 189ms/step - loss: 0.8635 - accuracy: 0.6939\n",
            "Epoch 25/50\n",
            "100/100 [==============================] - 19s 188ms/step - loss: 0.8667 - accuracy: 0.6907\n",
            "Epoch 26/50\n",
            "100/100 [==============================] - 19s 188ms/step - loss: 0.8434 - accuracy: 0.6982\n",
            "Epoch 27/50\n",
            "100/100 [==============================] - 19s 191ms/step - loss: 0.8390 - accuracy: 0.6994\n",
            "Epoch 28/50\n",
            "100/100 [==============================] - 19s 190ms/step - loss: 0.8215 - accuracy: 0.7075\n",
            "Epoch 29/50\n",
            "100/100 [==============================] - 19s 190ms/step - loss: 0.8305 - accuracy: 0.7016\n",
            "Epoch 30/50\n",
            "100/100 [==============================] - 19s 189ms/step - loss: 0.8104 - accuracy: 0.7085\n",
            "Epoch 31/50\n",
            "100/100 [==============================] - 19s 189ms/step - loss: 0.8010 - accuracy: 0.7113\n",
            "Epoch 32/50\n",
            "100/100 [==============================] - 20s 196ms/step - loss: 0.8089 - accuracy: 0.7095\n",
            "Epoch 33/50\n",
            "100/100 [==============================] - 19s 189ms/step - loss: 0.7986 - accuracy: 0.7144\n",
            "Epoch 34/50\n",
            "100/100 [==============================] - 19s 189ms/step - loss: 0.7907 - accuracy: 0.7163\n",
            "Epoch 35/50\n",
            "100/100 [==============================] - 19s 190ms/step - loss: 0.7881 - accuracy: 0.7179\n",
            "Epoch 36/50\n",
            "100/100 [==============================] - 19s 189ms/step - loss: 0.7810 - accuracy: 0.7194\n",
            "Epoch 37/50\n",
            "100/100 [==============================] - 19s 190ms/step - loss: 0.7803 - accuracy: 0.7200\n",
            "Epoch 38/50\n",
            "100/100 [==============================] - 19s 190ms/step - loss: 0.7655 - accuracy: 0.7248\n",
            "Epoch 39/50\n",
            "100/100 [==============================] - 19s 191ms/step - loss: 0.7643 - accuracy: 0.7254\n",
            "Epoch 40/50\n",
            "100/100 [==============================] - 19s 192ms/step - loss: 0.7679 - accuracy: 0.7231\n",
            "Epoch 41/50\n",
            "100/100 [==============================] - 20s 199ms/step - loss: 0.7492 - accuracy: 0.7304\n",
            "Epoch 42/50\n",
            "100/100 [==============================] - 19s 191ms/step - loss: 0.7541 - accuracy: 0.7277\n",
            "Epoch 43/50\n",
            "100/100 [==============================] - 19s 190ms/step - loss: 0.7450 - accuracy: 0.7310\n",
            "Epoch 44/50\n",
            "100/100 [==============================] - 19s 192ms/step - loss: 0.7402 - accuracy: 0.7321\n",
            "Epoch 45/50\n",
            "100/100 [==============================] - 19s 192ms/step - loss: 0.7316 - accuracy: 0.7364\n",
            "Epoch 46/50\n",
            "100/100 [==============================] - 19s 190ms/step - loss: 0.7326 - accuracy: 0.7355\n",
            "Epoch 47/50\n",
            "100/100 [==============================] - 19s 190ms/step - loss: 0.7333 - accuracy: 0.7343\n",
            "Epoch 48/50\n",
            "100/100 [==============================] - 19s 189ms/step - loss: 0.7280 - accuracy: 0.7374\n",
            "Epoch 49/50\n",
            "100/100 [==============================] - 19s 190ms/step - loss: 0.7227 - accuracy: 0.7410\n",
            "Epoch 50/50\n",
            "100/100 [==============================] - 20s 196ms/step - loss: 0.7078 - accuracy: 0.7448\n",
            "313/313 [==============================] - 2s 7ms/step - loss: 1.4442 - accuracy: 0.5766\n"
          ]
        }
      ]
    },
    {
      "cell_type": "markdown",
      "source": [
        "By Choosing lr = 0.005, epoch = 50, batch = 500 the training accuracy is 74.48% while test accuracy is 57.66% which is less than the previous. The train accuracy is increased while the test decreased."
      ],
      "metadata": {
        "id": "tu1R8n84hrEk"
      }
    },
    {
      "cell_type": "code",
      "source": [
        "# lr = 0.005, epoch = 25, batch = 100 to check with different parameters\n",
        "\n",
        "model3 = tf.keras.models.clone_model(cifar10)\n",
        "model3.compile(loss = 'sparse_categorical_crossentropy', optimizer= tf.keras.optimizers.Adam(learning_rate=0.005), metrics=['accuracy'])\n",
        "model3.fit(X_Train1, Y_Train1, epochs=25, batch_size=100)\n",
        "loss, acc = model3.evaluate(X_Test1, Y_Test1)"
      ],
      "metadata": {
        "id": "hj9W7GECQSgo",
        "colab": {
          "base_uri": "https://localhost:8080/"
        },
        "outputId": "1783b884-ac4c-4f25-8cea-dbbd81a48063"
      },
      "execution_count": null,
      "outputs": [
        {
          "output_type": "stream",
          "name": "stdout",
          "text": [
            "Epoch 1/25\n",
            "500/500 [==============================] - 22s 43ms/step - loss: 1.7257 - accuracy: 0.3617\n",
            "Epoch 2/25\n",
            "500/500 [==============================] - 22s 43ms/step - loss: 1.4877 - accuracy: 0.4623\n",
            "Epoch 3/25\n",
            "500/500 [==============================] - 22s 43ms/step - loss: 1.4005 - accuracy: 0.4955\n",
            "Epoch 4/25\n",
            "500/500 [==============================] - 22s 43ms/step - loss: 1.3540 - accuracy: 0.5167\n",
            "Epoch 5/25\n",
            "500/500 [==============================] - 21s 43ms/step - loss: 1.3099 - accuracy: 0.5329\n",
            "Epoch 6/25\n",
            "500/500 [==============================] - 22s 45ms/step - loss: 1.2772 - accuracy: 0.5432\n",
            "Epoch 7/25\n",
            "500/500 [==============================] - 22s 43ms/step - loss: 1.2569 - accuracy: 0.5574\n",
            "Epoch 8/25\n",
            "500/500 [==============================] - 22s 43ms/step - loss: 1.2283 - accuracy: 0.5646\n",
            "Epoch 9/25\n",
            "500/500 [==============================] - 22s 43ms/step - loss: 1.2095 - accuracy: 0.5740\n",
            "Epoch 10/25\n",
            "500/500 [==============================] - 21s 43ms/step - loss: 1.1907 - accuracy: 0.5784\n",
            "Epoch 11/25\n",
            "500/500 [==============================] - 21s 43ms/step - loss: 1.1646 - accuracy: 0.5892\n",
            "Epoch 12/25\n",
            "500/500 [==============================] - 22s 43ms/step - loss: 1.1434 - accuracy: 0.5944\n",
            "Epoch 13/25\n",
            "500/500 [==============================] - 22s 43ms/step - loss: 1.1298 - accuracy: 0.6006\n",
            "Epoch 14/25\n",
            "500/500 [==============================] - 22s 45ms/step - loss: 1.1104 - accuracy: 0.6078\n",
            "Epoch 15/25\n",
            "500/500 [==============================] - 22s 43ms/step - loss: 1.1037 - accuracy: 0.6089\n",
            "Epoch 16/25\n",
            "500/500 [==============================] - 22s 43ms/step - loss: 1.0900 - accuracy: 0.6118\n",
            "Epoch 17/25\n",
            "500/500 [==============================] - 22s 43ms/step - loss: 1.0845 - accuracy: 0.6148\n",
            "Epoch 18/25\n",
            "500/500 [==============================] - 22s 43ms/step - loss: 1.0680 - accuracy: 0.6216\n",
            "Epoch 19/25\n",
            "500/500 [==============================] - 21s 43ms/step - loss: 1.0598 - accuracy: 0.6235\n",
            "Epoch 20/25\n",
            "500/500 [==============================] - 22s 43ms/step - loss: 1.0420 - accuracy: 0.6317\n",
            "Epoch 21/25\n",
            "500/500 [==============================] - 22s 45ms/step - loss: 1.0352 - accuracy: 0.6348\n",
            "Epoch 22/25\n",
            "500/500 [==============================] - 22s 43ms/step - loss: 1.0251 - accuracy: 0.6358\n",
            "Epoch 23/25\n",
            "500/500 [==============================] - 22s 43ms/step - loss: 1.0178 - accuracy: 0.6389\n",
            "Epoch 24/25\n",
            "500/500 [==============================] - 22s 44ms/step - loss: 1.0100 - accuracy: 0.6442\n",
            "Epoch 25/25\n",
            "500/500 [==============================] - 22s 44ms/step - loss: 1.0021 - accuracy: 0.6451\n",
            "313/313 [==============================] - 2s 7ms/step - loss: 1.3954 - accuracy: 0.5296\n"
          ]
        }
      ]
    },
    {
      "cell_type": "markdown",
      "source": [
        "By Choosing lr = 0.005, epoch = 25, batch = 100 the training accuracy is 64.51% while test accuracy is 52.66% which is less than the above in previous case"
      ],
      "metadata": {
        "id": "C5iZWiFYh8sd"
      }
    },
    {
      "cell_type": "code",
      "source": [
        "# lr = 0.005, epoch = 20, batch = 1000 to check with different parameters\n",
        "\n",
        "model4 = tf.keras.models.clone_model(cifar10)\n",
        "model4.compile(loss = 'sparse_categorical_crossentropy', optimizer= tf.keras.optimizers.Adam(learning_rate=0.005), metrics=['accuracy'])\n",
        "model4.fit(X_Train1, Y_Train1, epochs=20, batch_size=1000)\n",
        "loss, acc = model4.evaluate(X_Test1, Y_Test1)"
      ],
      "metadata": {
        "id": "_kdR0BxMQU3h",
        "colab": {
          "base_uri": "https://localhost:8080/"
        },
        "outputId": "e131e640-bc34-43b9-eaa1-77d4bbdeb59f"
      },
      "execution_count": null,
      "outputs": [
        {
          "output_type": "stream",
          "name": "stdout",
          "text": [
            "Epoch 1/20\n",
            "50/50 [==============================] - 19s 368ms/step - loss: 1.9177 - accuracy: 0.2920\n",
            "Epoch 2/20\n",
            "50/50 [==============================] - 18s 367ms/step - loss: 1.5460 - accuracy: 0.4334\n",
            "Epoch 3/20\n",
            "50/50 [==============================] - 18s 366ms/step - loss: 1.4380 - accuracy: 0.4775\n",
            "Epoch 4/20\n",
            "50/50 [==============================] - 18s 370ms/step - loss: 1.3729 - accuracy: 0.5028\n",
            "Epoch 5/20\n",
            "50/50 [==============================] - 18s 369ms/step - loss: 1.3471 - accuracy: 0.5152\n",
            "Epoch 6/20\n",
            "50/50 [==============================] - 18s 368ms/step - loss: 1.2705 - accuracy: 0.5439\n",
            "Epoch 7/20\n",
            "50/50 [==============================] - 19s 384ms/step - loss: 1.2261 - accuracy: 0.5624\n",
            "Epoch 8/20\n",
            "50/50 [==============================] - 18s 368ms/step - loss: 1.1956 - accuracy: 0.5719\n",
            "Epoch 9/20\n",
            "50/50 [==============================] - 18s 368ms/step - loss: 1.1659 - accuracy: 0.5848\n",
            "Epoch 10/20\n",
            "50/50 [==============================] - 19s 370ms/step - loss: 1.1375 - accuracy: 0.5956\n",
            "Epoch 11/20\n",
            "50/50 [==============================] - 19s 371ms/step - loss: 1.0969 - accuracy: 0.6098\n",
            "Epoch 12/20\n",
            "50/50 [==============================] - 21s 419ms/step - loss: 1.0624 - accuracy: 0.6237\n",
            "Epoch 13/20\n",
            "50/50 [==============================] - 18s 369ms/step - loss: 1.0400 - accuracy: 0.6305\n",
            "Epoch 14/20\n",
            "50/50 [==============================] - 18s 368ms/step - loss: 1.0192 - accuracy: 0.6399\n",
            "Epoch 15/20\n",
            "50/50 [==============================] - 18s 370ms/step - loss: 1.0127 - accuracy: 0.6399\n",
            "Epoch 16/20\n",
            "50/50 [==============================] - 19s 385ms/step - loss: 0.9854 - accuracy: 0.6487\n",
            "Epoch 17/20\n",
            "50/50 [==============================] - 19s 374ms/step - loss: 0.9566 - accuracy: 0.6599\n",
            "Epoch 18/20\n",
            "50/50 [==============================] - 18s 369ms/step - loss: 0.9644 - accuracy: 0.6565\n",
            "Epoch 19/20\n",
            "50/50 [==============================] - 19s 376ms/step - loss: 0.9119 - accuracy: 0.6770\n",
            "Epoch 20/20\n",
            "50/50 [==============================] - 18s 368ms/step - loss: 0.9030 - accuracy: 0.6811\n",
            "313/313 [==============================] - 2s 7ms/step - loss: 1.1896 - accuracy: 0.5959\n"
          ]
        }
      ]
    },
    {
      "cell_type": "markdown",
      "source": [
        "By Choosing lr = 0.005, epoch = 25, batch = 100 the training accuracy is 68.11% while test accuracy is 59.59% which is not the best performance."
      ],
      "metadata": {
        "id": "uPDo-yiyiPuS"
      }
    },
    {
      "cell_type": "markdown",
      "source": [
        "**2.3 Explanation**\n",
        "The best hyperparameters are:\n",
        "learning rate = 0.005,\n",
        "epoch = 25, \n",
        "batch = 1000\n"
      ],
      "metadata": {
        "id": "dGhQ2FItii0x"
      }
    },
    {
      "cell_type": "markdown",
      "source": [
        "**2.4**"
      ],
      "metadata": {
        "id": "uWMW8KVvi03B"
      }
    },
    {
      "cell_type": "code",
      "source": [
        "Feed_Forward_model = tf.keras.models.Sequential()\n",
        "\n",
        "Feed_Forward_model.add(tf.keras.layers.Flatten())\n",
        "Feed_Forward_model.add(tf.keras.layers.Dense(6, activation='relu'))\n",
        "Feed_Forward_model.add(tf.keras.layers.Dense(16, activation='relu'))\n",
        "Feed_Forward_model.add(tf.keras.layers.Dense(120, activation='relu'))\n",
        "Feed_Forward_model.add(tf.keras.layers.Dense(84, activation='relu')) \n",
        "Feed_Forward_model.add(tf.keras.layers.Dense(10, activation='softmax'))\n",
        "Feed_Forward_model.compile(loss='sparse_categorical_crossentropy', optimizer='adam', metrics=['accuracy'])\n",
        "\n",
        "Feed_Forward_model.build(input_shape = (50000, 32, 32, 3))\n",
        "Feed_Forward_model.summary()"
      ],
      "metadata": {
        "colab": {
          "base_uri": "https://localhost:8080/"
        },
        "id": "QEGFi2M-BYm7",
        "outputId": "dc471e21-1afb-4f49-dec4-f7568b5c72b1"
      },
      "execution_count": null,
      "outputs": [
        {
          "output_type": "stream",
          "name": "stdout",
          "text": [
            "Model: \"sequential_1\"\n",
            "_________________________________________________________________\n",
            " Layer (type)                Output Shape              Param #   \n",
            "=================================================================\n",
            " flatten_1 (Flatten)         (50000, 3072)             0         \n",
            "                                                                 \n",
            " dense_5 (Dense)             (50000, 6)                18438     \n",
            "                                                                 \n",
            " dense_6 (Dense)             (50000, 16)               112       \n",
            "                                                                 \n",
            " dense_7 (Dense)             (50000, 120)              2040      \n",
            "                                                                 \n",
            " dense_8 (Dense)             (50000, 84)               10164     \n",
            "                                                                 \n",
            " dense_9 (Dense)             (50000, 10)               850       \n",
            "                                                                 \n",
            "=================================================================\n",
            "Total params: 31,604\n",
            "Trainable params: 31,604\n",
            "Non-trainable params: 0\n",
            "_________________________________________________________________\n"
          ]
        }
      ]
    },
    {
      "cell_type": "code",
      "source": [
        "Feed_Forward_model.fit(X_Train1, Y_Train1, epochs=25, batch_size= 1000)"
      ],
      "metadata": {
        "colab": {
          "base_uri": "https://localhost:8080/"
        },
        "id": "yjW7M87BplGS",
        "outputId": "3c6d030e-3360-40d4-ccd9-40253ceea128"
      },
      "execution_count": null,
      "outputs": [
        {
          "output_type": "stream",
          "name": "stdout",
          "text": [
            "Epoch 1/25\n",
            "50/50 [==============================] - 2s 21ms/step - loss: 2.1914 - accuracy: 0.1711\n",
            "Epoch 2/25\n",
            "50/50 [==============================] - 1s 21ms/step - loss: 1.9901 - accuracy: 0.2424\n",
            "Epoch 3/25\n",
            "50/50 [==============================] - 1s 30ms/step - loss: 1.9436 - accuracy: 0.2538\n",
            "Epoch 4/25\n",
            "50/50 [==============================] - 1s 24ms/step - loss: 1.9319 - accuracy: 0.2585\n",
            "Epoch 5/25\n",
            "50/50 [==============================] - 1s 21ms/step - loss: 1.9240 - accuracy: 0.2625\n",
            "Epoch 6/25\n",
            "50/50 [==============================] - 1s 21ms/step - loss: 1.9173 - accuracy: 0.2623\n",
            "Epoch 7/25\n",
            "50/50 [==============================] - 1s 20ms/step - loss: 1.9120 - accuracy: 0.2645\n",
            "Epoch 8/25\n",
            "50/50 [==============================] - 1s 20ms/step - loss: 1.9138 - accuracy: 0.2655\n",
            "Epoch 9/25\n",
            "50/50 [==============================] - 1s 21ms/step - loss: 1.9067 - accuracy: 0.2699\n",
            "Epoch 10/25\n",
            "50/50 [==============================] - 1s 20ms/step - loss: 1.9055 - accuracy: 0.2684\n",
            "Epoch 11/25\n",
            "50/50 [==============================] - 1s 20ms/step - loss: 1.9024 - accuracy: 0.2692\n",
            "Epoch 12/25\n",
            "50/50 [==============================] - 1s 21ms/step - loss: 1.8999 - accuracy: 0.2706\n",
            "Epoch 13/25\n",
            "50/50 [==============================] - 1s 21ms/step - loss: 1.9000 - accuracy: 0.2722\n",
            "Epoch 14/25\n",
            "50/50 [==============================] - 1s 20ms/step - loss: 1.8984 - accuracy: 0.2737\n",
            "Epoch 15/25\n",
            "50/50 [==============================] - 1s 20ms/step - loss: 1.8956 - accuracy: 0.2724\n",
            "Epoch 16/25\n",
            "50/50 [==============================] - 1s 21ms/step - loss: 1.8962 - accuracy: 0.2739\n",
            "Epoch 17/25\n",
            "50/50 [==============================] - 1s 20ms/step - loss: 1.9014 - accuracy: 0.2716\n",
            "Epoch 18/25\n",
            "50/50 [==============================] - 1s 20ms/step - loss: 1.8922 - accuracy: 0.2737\n",
            "Epoch 19/25\n",
            "50/50 [==============================] - 1s 21ms/step - loss: 1.8915 - accuracy: 0.2752\n",
            "Epoch 20/25\n",
            "50/50 [==============================] - 1s 21ms/step - loss: 1.8904 - accuracy: 0.2757\n",
            "Epoch 21/25\n",
            "50/50 [==============================] - 1s 21ms/step - loss: 1.8895 - accuracy: 0.2747\n",
            "Epoch 22/25\n",
            "50/50 [==============================] - 1s 21ms/step - loss: 1.8887 - accuracy: 0.2773\n",
            "Epoch 23/25\n",
            "50/50 [==============================] - 1s 20ms/step - loss: 1.8885 - accuracy: 0.2776\n",
            "Epoch 24/25\n",
            "50/50 [==============================] - 1s 24ms/step - loss: 1.8918 - accuracy: 0.2772\n",
            "Epoch 25/25\n",
            "50/50 [==============================] - 1s 20ms/step - loss: 1.8872 - accuracy: 0.2788\n"
          ]
        },
        {
          "output_type": "execute_result",
          "data": {
            "text/plain": [
              "<keras.callbacks.History at 0x7fac1c53ced0>"
            ]
          },
          "metadata": {},
          "execution_count": 7
        }
      ]
    },
    {
      "cell_type": "code",
      "source": [
        "score_FF = Feed_Forward_model.evaluate(X_Test1, Y_Test1)\n",
        "print('Test loss:', score_FF[0])\n",
        "print('Test accuracy:', score_FF[1])"
      ],
      "metadata": {
        "colab": {
          "base_uri": "https://localhost:8080/"
        },
        "id": "Hvwdq5mTrYQT",
        "outputId": "a7dc88db-07ed-45a7-ec14-edb544628185"
      },
      "execution_count": null,
      "outputs": [
        {
          "output_type": "stream",
          "name": "stdout",
          "text": [
            "313/313 [==============================] - 0s 1ms/step - loss: 1.8828 - accuracy: 0.2784\n",
            "Test loss: 1.8828445672988892\n",
            "Test accuracy: 0.2784000039100647\n"
          ]
        }
      ]
    },
    {
      "cell_type": "markdown",
      "source": [
        "**2.4 a**\n",
        "The performance is too low with accuracy just 27.8%\n",
        "\n",
        "**2.4** **b**\n",
        "No of parameters is 31604. The parameters are less in this compared to 62,006. Despite this it took too long to train and the performace is alomst half of the other. So it is not worth it."
      ],
      "metadata": {
        "id": "fb2ssZz0Was9"
      }
    },
    {
      "cell_type": "code",
      "source": [],
      "metadata": {
        "id": "F_iOszy7r63I"
      },
      "execution_count": null,
      "outputs": []
    }
  ]
}

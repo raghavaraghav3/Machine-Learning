{
  "nbformat": 4,
  "nbformat_minor": 0,
  "metadata": {
    "colab": {
      "provenance": [],
      "collapsed_sections": [],
      "authorship_tag": "ABX9TyOPx0xsBe3tNtp//fuIcgVG",
      "include_colab_link": true
    },
    "kernelspec": {
      "name": "python3",
      "display_name": "Python 3"
    },
    "language_info": {
      "name": "python"
    }
  },
  "cells": [
    {
      "cell_type": "markdown",
      "metadata": {
        "id": "view-in-github",
        "colab_type": "text"
      },
      "source": [
        "<a href=\"https://colab.research.google.com/github/raghavaraghav3/CS-5783/blob/main/Aignment0.ipynb\" target=\"_parent\"><img src=\"https://colab.research.google.com/assets/colab-badge.svg\" alt=\"Open In Colab\"/></a>"
      ]
    },
    {
      "cell_type": "markdown",
      "source": [
        "**Problem 1**"
      ],
      "metadata": {
        "id": "6wfFZKMRAjQ9"
      }
    },
    {
      "cell_type": "code",
      "source": [
        "file = open('/content/test.txt', 'r')\n",
        "text = file.read()\n",
        "Output = {chr(value): 0 for value in range(97, 123)}\n",
        "\n",
        "for i in Output:\n",
        "    Output[i]=text.count(i.upper()) + text.count(i.lower())\n",
        "file.close()\n",
        "print(\"The histogram is: \",Output)"
      ],
      "metadata": {
        "colab": {
          "base_uri": "https://localhost:8080/"
        },
        "id": "dUv0GA5_91cH",
        "outputId": "dff6024a-0e1c-479c-ff1a-8ca37f8a7d45"
      },
      "execution_count": 26,
      "outputs": [
        {
          "output_type": "stream",
          "name": "stdout",
          "text": [
            "The histogram is:  {'a': 44, 'b': 24, 'c': 23, 'd': 30, 'e': 63, 'f': 22, 'g': 23, 'h': 25, 'i': 56, 'j': 23, 'k': 22, 'l': 26, 'm': 22, 'n': 28, 'o': 50, 'p': 25, 'q': 22, 'r': 40, 's': 25, 't': 36, 'u': 38, 'v': 22, 'w': 22, 'x': 22, 'y': 27, 'z': 23}\n"
          ]
        }
      ]
    },
    {
      "cell_type": "code",
      "source": [
        "import matplotlib.pyplot as plt\n",
        "plt.bar(Output.keys(), Output.values())\n",
        "plt.xlabel('Letter')\n",
        "plt.ylabel('Frequency')\n",
        "plt.title('Letters with their frequency- Un Normalised')\n",
        "plt.show()"
      ],
      "metadata": {
        "colab": {
          "base_uri": "https://localhost:8080/",
          "height": 295
        },
        "id": "Q4hlijP6-idw",
        "outputId": "f516489f-8e67-47fb-9123-c9fd83454ff0"
      },
      "execution_count": 27,
      "outputs": [
        {
          "output_type": "display_data",
          "data": {
            "text/plain": [
              "<Figure size 432x288 with 1 Axes>"
            ],
            "image/png": "[encoded data removed]"
          },
          "metadata": {
            "needs_background": "light"
          }
        }
      ]
    },
    {
      "cell_type": "code",
      "source": [
        "\n",
        "factor=1.0/sum(Output.values())\n",
        "for k in Output:\n",
        "  Output[k] = Output[k]*factor\n",
        "print(\"The histogram is: \",Output)"
      ],
      "metadata": {
        "colab": {
          "base_uri": "https://localhost:8080/"
        },
        "id": "LNFRdMT1CR3P",
        "outputId": "99f0a226-2ace-4eb3-b068-0b31262e1df6"
      },
      "execution_count": 28,
      "outputs": [
        {
          "output_type": "stream",
          "name": "stdout",
          "text": [
            "The histogram is:  {'a': 0.05619412515964241, 'b': 0.030651340996168584, 'c': 0.029374201787994894, 'd': 0.03831417624521073, 'e': 0.08045977011494253, 'f': 0.028097062579821204, 'g': 0.029374201787994894, 'h': 0.031928480204342274, 'i': 0.0715197956577267, 'j': 0.029374201787994894, 'k': 0.028097062579821204, 'l': 0.033205619412515965, 'm': 0.028097062579821204, 'n': 0.03575989782886335, 'o': 0.06385696040868455, 'p': 0.031928480204342274, 'q': 0.028097062579821204, 'r': 0.05108556832694764, 's': 0.031928480204342274, 't': 0.04597701149425287, 'u': 0.04853128991060026, 'v': 0.028097062579821204, 'w': 0.028097062579821204, 'x': 0.028097062579821204, 'y': 0.034482758620689655, 'z': 0.029374201787994894}\n"
          ]
        }
      ]
    },
    {
      "cell_type": "code",
      "source": [
        "plt.bar(Output.keys(), Output.values())\n",
        "plt.xlabel('Letter')\n",
        "plt.ylabel('Frequency')\n",
        "plt.title('Letters with their frequency- Normalised')\n",
        "plt.show()"
      ],
      "metadata": {
        "colab": {
          "base_uri": "https://localhost:8080/",
          "height": 295
        },
        "id": "zwWk9zjMGutH",
        "outputId": "1408b600-4cac-4ced-b1c4-90b5c5973b3a"
      },
      "execution_count": 29,
      "outputs": [
        {
          "output_type": "display_data",
          "data": {
            "text/plain": [
              "<Figure size 432x288 with 1 Axes>"
            ],
            "image/png": "[encoded data removed]"
          },
          "metadata": {
            "needs_background": "light"
          }
        }
      ]
    },
    {
      "cell_type": "markdown",
      "source": [
        "**Problem 2**"
      ],
      "metadata": {
        "id": "Iqs9R4xsP96B"
      }
    },
    {
      "cell_type": "code",
      "source": [
        "import numpy as np\n",
        "import cv2\n",
        "\n",
        "from IPython.display import Image\n",
        "\n",
        "img = cv2.imread('/content/test.png')\n",
        "img1 = np.empty_like(img)\n",
        "\n",
        "# print(img.shape)\n",
        "# print(img[0][1])\n",
        "# print(img)\n",
        "\n",
        "point1 = np.array((0,0,255))\n",
        "point2 = np.array((0,255,0))\n",
        "point3 = np.array((255,0,0))\n",
        "\n",
        "def newpixel(point):\n",
        "    dist1 = np.linalg.norm(point1 - point)\n",
        "    dist2 = np.linalg.norm(point2 - point)\n",
        "    dist3 = np.linalg.norm(point3 - point)\n",
        "    \n",
        "    dist = {dist1:point1, dist2:point2, dist3:point3}\n",
        "    \n",
        "    return min(dist.items(), key=lambda x: x[0])\n",
        "\n",
        "w,b,c = img.shape\n",
        "for i in range(w):\n",
        "    for j in range(b):\n",
        "        img1[i][j] = newpixel(img[i][j])[1]\n",
        "        \n",
        "        \n",
        "print(img1.shape)\n",
        "print(img1)\n",
        "\n",
        "cv2.imwrite('output1.png', img1)\n",
        "Image('output1.png')\n"
      ],
      "metadata": {
        "colab": {
          "base_uri": "https://localhost:8080/",
          "height": 1000
        },
        "id": "Q21jibaEG33S",
        "outputId": "494c931e-5a38-40ac-d5bf-c6be06a7d6b6"
      },
      "execution_count": 30,
      "outputs": [
        {
          "output_type": "stream",
          "name": "stdout",
          "text": [
            "(128, 128, 3)\n",
            "[[[  0   0 255]\n",
            "  [  0   0 255]\n",
            "  [  0   0 255]\n",
            "  ...\n",
            "  [  0 255   0]\n",
            "  [  0 255   0]\n",
            "  [  0 255   0]]\n",
            "\n",
            " [[  0   0 255]\n",
            "  [  0   0 255]\n",
            "  [  0   0 255]\n",
            "  ...\n",
            "  [  0 255   0]\n",
            "  [  0 255   0]\n",
            "  [  0 255   0]]\n",
            "\n",
            " [[  0   0 255]\n",
            "  [  0   0 255]\n",
            "  [  0   0 255]\n",
            "  ...\n",
            "  [  0 255   0]\n",
            "  [  0 255   0]\n",
            "  [  0 255   0]]\n",
            "\n",
            " ...\n",
            "\n",
            " [[  0 255   0]\n",
            "  [  0 255   0]\n",
            "  [  0 255   0]\n",
            "  ...\n",
            "  [  0   0 255]\n",
            "  [  0   0 255]\n",
            "  [  0   0 255]]\n",
            "\n",
            " [[255   0   0]\n",
            "  [255   0   0]\n",
            "  [255   0   0]\n",
            "  ...\n",
            "  [  0   0 255]\n",
            "  [  0   0 255]\n",
            "  [  0   0 255]]\n",
            "\n",
            " [[255   0   0]\n",
            "  [  0 255   0]\n",
            "  [  0 255   0]\n",
            "  ...\n",
            "  [  0   0 255]\n",
            "  [  0   0 255]\n",
            "  [  0   0 255]]]\n"
          ]
        },
        {
          "output_type": "execute_result",
          "data": {
            "image/png": "[encoded data removed]",
            "text/plain": [
              "<IPython.core.display.Image object>"
            ]
          },
          "metadata": {},
          "execution_count": 30
        }
      ]
    },
    {
      "cell_type": "code",
      "source": [
        "img1 = cv2.imread('test.png')\n",
        "x = img1.shape[0]/2\n",
        "y = img1.shape[1]/2\n",
        "print(x)\n",
        "print(y)\n",
        "print(img1[0][0])\n",
        "\n",
        "int_px = int((x - 50/2))\n",
        "int_py = int((y - 50/2))\n",
        "\n",
        "fin_px = int((x + 50/2))\n",
        "fin_py = int((y + 50/2))\n",
        "\n",
        "i = int_px\n",
        "j = int_py\n",
        "\n",
        "while(not(int_px >= fin_px)):\n",
        "    \n",
        "    while(not(int_py >= fin_py)):\n",
        "        img1[int_px][int_py] = [0,0,0]\n",
        "        int_py+=1\n",
        "    \n",
        "    int_px+= 1\n",
        "    int_py = j\n",
        "    \n",
        "cv2.imwrite('output2.png', img1)\n",
        "Image('output2.png')"
      ],
      "metadata": {
        "id": "q64kU-87TLnU",
        "outputId": "ebcd4b4e-a7ae-4b2c-d646-f0f110f53cce",
        "colab": {
          "base_uri": "https://localhost:8080/",
          "height": 232
        }
      },
      "execution_count": 31,
      "outputs": [
        {
          "output_type": "stream",
          "name": "stdout",
          "text": [
            "64.0\n",
            "64.0\n",
            "[103 180 219]\n",
            "int_px -  39 int_py -  39\n",
            "fin_px -  89 fin_py -  89\n"
          ]
        },
        {
          "output_type": "execute_result",
          "data": {
            "image/png": "[encoded data removed]",
            "text/plain": [
              "<IPython.core.display.Image object>"
            ]
          },
          "metadata": {},
          "execution_count": 31
        }
      ]
    },
    {
      "cell_type": "markdown",
      "source": [
        "**Problem 3**"
      ],
      "metadata": {
        "id": "CbGCzISqyCY8"
      }
    },
    {
      "cell_type": "code",
      "source": [
        "import numpy as np\n",
        "# Solving systems of equations\n",
        "\n",
        "# Columns of a are variable coefficients, rows are individual equations\n",
        "a = np.array([[3,3], [4,2]])\n",
        "\n",
        "# Column vector of equation equalities\n",
        "b = np.array([[11.25],[10]])\n",
        "# Check to ensure matrix is nonsingular\n",
        "print(np.linalg.det(a))\n",
        "\n",
        "# Solve\n",
        "print(np.linalg.solve(a, b))"
      ],
      "metadata": {
        "colab": {
          "base_uri": "https://localhost:8080/"
        },
        "id": "tc0JjUzCyD7-",
        "outputId": "af5d2962-280b-4d2d-905e-f886db7c417d"
      },
      "execution_count": 32,
      "outputs": [
        {
          "output_type": "stream",
          "name": "stdout",
          "text": [
            "-6.0\n",
            "[[1.25]\n",
            " [2.5 ]]\n"
          ]
        }
      ]
    },
    {
      "cell_type": "code",
      "source": [],
      "metadata": {
        "id": "Oxxaq3d4z-Yf"
      },
      "execution_count": null,
      "outputs": []
    }
  ]
}
